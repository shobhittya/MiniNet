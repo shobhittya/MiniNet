{
  "nbformat": 4,
  "nbformat_minor": 0,
  "metadata": {
    "accelerator": "GPU",
    "colab": {
      "name": "MiniNet_CASIA.ipynb",
      "provenance": [],
      "authorship_tag": "ABX9TyOkvAtfliUkv7MddRjjT9wx",
      "include_colab_link": true
    },
    "kernelspec": {
      "display_name": "Python 3",
      "name": "python3"
    },
    "language_info": {
      "name": "python"
    }
  },
  "cells": [
    {
      "cell_type": "markdown",
      "metadata": {
        "id": "view-in-github",
        "colab_type": "text"
      },
      "source": [
        "<a href=\"https://colab.research.google.com/github/shobhittya/deeplearning/blob/main/MiniNet_CASIA.ipynb\" target=\"_parent\"><img src=\"https://colab.research.google.com/assets/colab-badge.svg\" alt=\"Open In Colab\"/></a>"
      ]
    },
    {
      "cell_type": "code",
      "metadata": {
        "id": "Tx7O1I4-I-hv"
      },
      "source": [
        "import numpy as np\n",
        "import matplotlib.pyplot as plt\n",
        "from tensorflow.keras.layers import Input, Dense, Flatten, Conv2D, MaxPooling2D, BatchNormalization, Dropout, Reshape, Concatenate, LeakyReLU\n",
        "from tensorflow.keras.preprocessing.image import ImageDataGenerator\n",
        "from tensorflow.keras.optimizers import Adam\n",
        "from tensorflow.keras.models import Model"
      ],
      "execution_count": null,
      "outputs": []
    },
    {
      "cell_type": "code",
      "metadata": {
        "id": "qlWdJ7T2xQnw"
      },
      "source": [
        "#import necessary libraries\n",
        "import numpy as np\n",
        "import matplotlib.pyplot as plt\n",
        "%matplotlib inline\n",
        "np.random.seed(2)\n",
        "from sklearn.model_selection import train_test_split\n",
        "from sklearn.metrics import confusion_matrix\n",
        "from keras.utils.np_utils import to_categorical\n",
        "from keras.models import Sequential\n",
        "from keras.layers import Dense, Flatten, Conv2D, MaxPool2D, Dropout\n",
        "from tensorflow.keras.optimizers import Adam\n",
        "from keras.preprocessing.image import ImageDataGenerator\n",
        "from keras.callbacks import EarlyStopping"
      ],
      "execution_count": null,
      "outputs": []
    },
    {
      "cell_type": "code",
      "metadata": {
        "id": "TD6jsF_sJLFD"
      },
      "source": [
        "!pip install opendatasets --upgrade --quiet"
      ],
      "execution_count": null,
      "outputs": []
    },
    {
      "cell_type": "code",
      "metadata": {
        "id": "5rRFGeO6JOLS"
      },
      "source": [
        "import opendatasets as od"
      ],
      "execution_count": null,
      "outputs": []
    },
    {
      "cell_type": "code",
      "metadata": {
        "id": "WEYd_F9lJQtu"
      },
      "source": [
        "dataset_url = \"https://www.kaggle.com/sophatvathana/casia-dataset\""
      ],
      "execution_count": null,
      "outputs": []
    },
    {
      "cell_type": "code",
      "metadata": {
        "id": "7VM3Gk2gJVih"
      },
      "source": [
        "import os"
      ],
      "execution_count": null,
      "outputs": []
    },
    {
      "cell_type": "code",
      "metadata": {
        "colab": {
          "base_uri": "https://localhost:8080/"
        },
        "id": "9xynIwK6JXN2",
        "outputId": "46052942-9dd6-4a6d-c8d9-0270dc6fca72"
      },
      "source": [
        "od.download(dataset_url)"
      ],
      "execution_count": null,
      "outputs": [
        {
          "output_type": "stream",
          "name": "stdout",
          "text": [
            "Please provide your Kaggle credentials to download this dataset. Learn more: http://bit.ly/kaggle-creds\n",
            "Your Kaggle username: shobhittyagi\n",
            "Your Kaggle Key: ··········\n",
            "Downloading casia-dataset.zip to ./casia-dataset\n"
          ]
        },
        {
          "output_type": "stream",
          "name": "stderr",
          "text": [
            "100%|██████████| 5.22G/5.22G [01:37<00:00, 57.5MB/s]\n"
          ]
        },
        {
          "output_type": "stream",
          "name": "stdout",
          "text": [
            "\n"
          ]
        }
      ]
    },
    {
      "cell_type": "code",
      "metadata": {
        "id": "YlKqR2R9yJmr"
      },
      "source": [
        "import numpy as np \n",
        "import pandas as pd \n",
        "import matplotlib.pyplot as plt2\n",
        "import os\n",
        "import tensorflow as tf\n",
        "from keras.preprocessing.image import ImageDataGenerator, load_img\n",
        "from keras.layers import (Conv2D, BatchNormalization, Activation, MaxPooling2D, GlobalAveragePooling2D, Dense, Flatten, Dropout)\n",
        "from tensorflow.keras.optimizers import RMSprop, Adam, SGD\n",
        "from keras import regularizers\n",
        "from keras.callbacks import CSVLogger, ModelCheckpoint, ReduceLROnPlateau"
      ],
      "execution_count": null,
      "outputs": []
    },
    {
      "cell_type": "code",
      "metadata": {
        "id": "CQs_cdXDyneL"
      },
      "source": [
        "from PIL import Image, ImageChops, ImageEnhance\n",
        "import os\n",
        "import itertools"
      ],
      "execution_count": null,
      "outputs": []
    },
    {
      "cell_type": "code",
      "metadata": {
        "id": "PUo_HyrTyq-3"
      },
      "source": [
        "def convert_to_ela_image(path, quality):\n",
        "    temp_filename = 'temp_file_name.jpg'\n",
        "    ela_filename = 'temp_ela.png'\n",
        "    \n",
        "    image = Image.open(path).convert('RGB')\n",
        "    image.save(temp_filename, 'JPEG', quality = quality)\n",
        "    temp_image = Image.open(temp_filename)\n",
        "    \n",
        "    ela_image = ImageChops.difference(image, temp_image)\n",
        "    \n",
        "    extrema = ela_image.getextrema()\n",
        "    max_diff = max([ex[1] for ex in extrema])\n",
        "    if max_diff == 0:\n",
        "        max_diff = 1\n",
        "    scale = 255.0 / max_diff\n",
        "    \n",
        "    ela_image = ImageEnhance.Brightness(ela_image).enhance(scale)\n",
        "    \n",
        "    return ela_image"
      ],
      "execution_count": null,
      "outputs": []
    },
    {
      "cell_type": "code",
      "metadata": {
        "id": "D1j-CNA2yq8Q"
      },
      "source": [
        "image_size = (128, 128)"
      ],
      "execution_count": null,
      "outputs": []
    },
    {
      "cell_type": "code",
      "metadata": {
        "id": "4yE7i4t9yu0U"
      },
      "source": [
        "def prepare_image(image_path):\n",
        "    return np.array(convert_to_ela_image(image_path, 90).resize(image_size)).flatten() / 255.0"
      ],
      "execution_count": null,
      "outputs": []
    },
    {
      "cell_type": "code",
      "metadata": {
        "id": "0fOUqEcayq5V"
      },
      "source": [
        "X = [] # ELA converted images\n",
        "Y = [] # 0 for fake, 1 for real"
      ],
      "execution_count": null,
      "outputs": []
    },
    {
      "cell_type": "code",
      "metadata": {
        "colab": {
          "base_uri": "https://localhost:8080/"
        },
        "id": "SnVBw9W5yp1O",
        "outputId": "f5748a0b-b5dc-4ea2-f672-9acfda340085"
      },
      "source": [
        "import random\n",
        "path = '/content/casia-dataset/CASIA2/Au/'\n",
        "for dirname, _, filenames in os.walk(path):\n",
        "    for filename in filenames:\n",
        "        if filename.endswith('jpg') or filename.endswith('png'):\n",
        "            full_path = os.path.join(dirname, filename)\n",
        "            X.append(prepare_image(full_path))\n",
        "            Y.append(1)\n",
        "            if len(Y) % 500 == 0:\n",
        "                print(f'Processing {len(Y)} images')\n",
        "\n",
        "random.shuffle(X)\n",
        "X = X[:2100]\n",
        "Y = Y[:2100]\n",
        "print(len(X), len(Y))"
      ],
      "execution_count": null,
      "outputs": [
        {
          "output_type": "stream",
          "name": "stdout",
          "text": [
            "Processing 500 images\n",
            "Processing 1000 images\n",
            "Processing 1500 images\n"
          ]
        },
        {
          "output_type": "stream",
          "name": "stderr",
          "text": [
            "/usr/local/lib/python3.7/dist-packages/PIL/TiffImagePlugin.py:770: UserWarning: Possibly corrupt EXIF data.  Expecting to read 8 bytes but only got 2. Skipping tag 41487\n",
            "  \" Skipping tag %s\" % (size, len(data), tag)\n",
            "/usr/local/lib/python3.7/dist-packages/PIL/TiffImagePlugin.py:770: UserWarning: Possibly corrupt EXIF data.  Expecting to read 8 bytes but only got 0. Skipping tag 41988\n",
            "  \" Skipping tag %s\" % (size, len(data), tag)\n"
          ]
        },
        {
          "output_type": "stream",
          "name": "stdout",
          "text": [
            "Processing 2000 images\n",
            "Processing 2500 images\n",
            "Processing 3000 images\n",
            "Processing 3500 images\n",
            "Processing 4000 images\n",
            "Processing 4500 images\n",
            "Processing 5000 images\n",
            "Processing 5500 images\n",
            "Processing 6000 images\n",
            "Processing 6500 images\n",
            "Processing 7000 images\n",
            "2100 2100\n"
          ]
        }
      ]
    },
    {
      "cell_type": "code",
      "metadata": {
        "colab": {
          "base_uri": "https://localhost:8080/"
        },
        "id": "KvD7kTmJy2Ak",
        "outputId": "6af5258b-901a-475a-e07a-cfd71f07faea"
      },
      "source": [
        "path = '/content/casia-dataset/CASIA2/Tp/'\n",
        "for dirname, _, filenames in os.walk(path):\n",
        "    for filename in filenames:\n",
        "        if filename.endswith('jpg') or filename.endswith('png'):\n",
        "            full_path = os.path.join(dirname, filename)\n",
        "            X.append(prepare_image(full_path))\n",
        "            Y.append(0)\n",
        "            if len(Y) % 500 == 0:\n",
        "                print(f'Processing {len(Y)} images')\n",
        "\n",
        "print(len(X), len(Y))"
      ],
      "execution_count": null,
      "outputs": [
        {
          "output_type": "stream",
          "name": "stdout",
          "text": [
            "Processing 2500 images\n",
            "Processing 3000 images\n",
            "Processing 3500 images\n",
            "Processing 4000 images\n",
            "4164 4164\n"
          ]
        }
      ]
    },
    {
      "cell_type": "code",
      "metadata": {
        "id": "P9gKn2rNy1-J"
      },
      "source": [
        "X = np.array(X)\n",
        "Y = to_categorical(Y, 2)\n",
        "X = X.reshape(-1, 128, 128, 3)"
      ],
      "execution_count": null,
      "outputs": []
    },
    {
      "cell_type": "code",
      "metadata": {
        "colab": {
          "base_uri": "https://localhost:8080/"
        },
        "id": "FVpD9frhy169",
        "outputId": "8011b19e-ff3c-439f-8d27-5e6383296966"
      },
      "source": [
        "X_train, X_val, Y_train, Y_val = train_test_split(X, Y, test_size = 0.2, random_state=5)\n",
        "X = X.reshape(-1,1,1,1)\n",
        "print(len(X_train), len(Y_train))\n",
        "print(len(X_val), len(Y_val))"
      ],
      "execution_count": null,
      "outputs": [
        {
          "output_type": "stream",
          "name": "stdout",
          "text": [
            "3331 3331\n",
            "833 833\n"
          ]
        }
      ]
    },
    {
      "cell_type": "code",
      "metadata": {
        "colab": {
          "base_uri": "https://localhost:8080/"
        },
        "id": "eVpxB_-Mc1-M",
        "outputId": "b9426403-25aa-4503-c05c-cc4b14dfbdb1"
      },
      "source": [
        "import tensorflow as tf\n",
        "from tensorflow import keras\n",
        "from tensorflow.keras.preprocessing.image import ImageDataGenerator\n",
        "from tensorflow.keras.models import Sequential, load_model\n",
        "from tensorflow.keras.layers import Activation\n",
        "from tensorflow.keras.layers import Dropout\n",
        "from tensorflow.keras.layers import Flatten\n",
        "from tensorflow.keras.layers import Dense\n",
        "from tensorflow.keras.layers import Input\n",
        "from tensorflow.keras.layers import BatchNormalization\n",
        "from tensorflow.keras.layers import Conv2D\n",
        "from tensorflow.keras.models import Model\n",
        "from tensorflow.keras.applications import VGG19, EfficientNetB0, InceptionResNetV2, DenseNet121\n",
        "\n",
        "from tensorflow.keras.callbacks import ModelCheckpoint\n",
        "from tensorflow.keras.callbacks import LambdaCallback\n",
        "from tensorflow.keras.callbacks import Callback\n",
        "from tensorflow.keras import metrics\n",
        "from tensorflow.keras.optimizers import Adam \n",
        "from tensorflow.keras import backend as K\n",
        "\n",
        "# pretrain_model = InceptionResNetV2(include_top=False,  weights='imagenet', input_shape=(128, 128, 3))  \n",
        "# pretrain_model = EfficientNetB0(include_top = False, weights='imagenet', input_shape = (128, 128, 3))\n",
        "# pretrain_model = DenseNet121(include_top=False,  weights='imagenet', input_shape=(128, 128, 3))  \n",
        "pretrain_model = VGG19(include_top=False,  weights='imagenet', input_shape=(128, 128, 3)) \n",
        "\n",
        "def create_model(input_shape, n_out):     \n",
        "    input_tensor = Input(shape=(128, 128, 3))\n",
        "    bn = BatchNormalization()(input_tensor)\n",
        "    x = pretrain_model(bn)\n",
        "    x = Conv2D(128, kernel_size=(1,1), activation='relu')(x)\n",
        "    x = Flatten()(x)\n",
        "    x = Dropout(0.5)(x)\n",
        "    x = Dense(512, activation='relu')(x)\n",
        "    x = Dropout(0.5)(x)\n",
        "    output = Dense(n_out, activation='sigmoid')(x)\n",
        "    model = Model(input_tensor, output)\n",
        "    return model\n",
        "\n"
      ],
      "execution_count": null,
      "outputs": [
        {
          "name": "stdout",
          "output_type": "stream",
          "text": [
            "Downloading data from https://storage.googleapis.com/tensorflow/keras-applications/vgg19/vgg19_weights_tf_dim_ordering_tf_kernels_notop.h5\n",
            "80142336/80134624 [==============================] - 1s 0us/step\n",
            "80150528/80134624 [==============================] - 1s 0us/step\n"
          ]
        }
      ]
    },
    {
      "cell_type": "code",
      "metadata": {
        "id": "uGro9psO7tLo"
      },
      "source": [
        "model = tf.keras.models.Sequential(\n",
        "    [\n",
        "     tf.keras.layers.Conv2D(32, (3,3), padding='same', activation='relu', input_shape = (128, 128, 3)),\n",
        "     tf.keras.layers.MaxPooling2D(2,2),\n",
        "\n",
        "     tf.keras.layers.Conv2D(64, (3,3), padding='same', activation='relu'),\n",
        "     tf.keras.layers.MaxPooling2D(2,2),\n",
        "\n",
        "     tf.keras.layers.Conv2D(128, (3,3), padding='same', activation='relu'),\n",
        "     tf.keras.layers.MaxPooling2D(2,2),\n",
        "\n",
        "     tf.keras.layers.Conv2D(256, (3,3), padding='same', activation='relu'),\n",
        "     tf.keras.layers.MaxPooling2D(2,2),\n",
        "\n",
        "     tf.keras.layers.Flatten(),\n",
        "\n",
        "     tf.keras.layers.Dense(512, activation='relu'),\n",
        "     tf.keras.layers.Dropout(0.5),\n",
        "\n",
        "     tf.keras.layers.Dropout(0.3),\n",
        "     tf.keras.layers.Dense(2, activation='softmax')\n",
        "     ]\n",
        ")"
      ],
      "execution_count": null,
      "outputs": []
    },
    {
      "cell_type": "code",
      "metadata": {
        "colab": {
          "base_uri": "https://localhost:8080/"
        },
        "id": "p4KKSq8oc17P",
        "outputId": "1db284ba-a621-4adf-93cb-8e1368b7fa7f"
      },
      "source": [
        "\n",
        "\n",
        "# model = create_model((128, 128, 3), 2)\n",
        "\n",
        "\n",
        "model.summary()"
      ],
      "execution_count": null,
      "outputs": [
        {
          "output_type": "stream",
          "name": "stdout",
          "text": [
            "Model: \"sequential_3\"\n",
            "_________________________________________________________________\n",
            "Layer (type)                 Output Shape              Param #   \n",
            "=================================================================\n",
            "conv2d_12 (Conv2D)           (None, 128, 128, 32)      896       \n",
            "_________________________________________________________________\n",
            "max_pooling2d_12 (MaxPooling (None, 64, 64, 32)        0         \n",
            "_________________________________________________________________\n",
            "conv2d_13 (Conv2D)           (None, 64, 64, 64)        18496     \n",
            "_________________________________________________________________\n",
            "max_pooling2d_13 (MaxPooling (None, 32, 32, 64)        0         \n",
            "_________________________________________________________________\n",
            "conv2d_14 (Conv2D)           (None, 32, 32, 128)       73856     \n",
            "_________________________________________________________________\n",
            "max_pooling2d_14 (MaxPooling (None, 16, 16, 128)       0         \n",
            "_________________________________________________________________\n",
            "conv2d_15 (Conv2D)           (None, 16, 16, 256)       295168    \n",
            "_________________________________________________________________\n",
            "max_pooling2d_15 (MaxPooling (None, 8, 8, 256)         0         \n",
            "_________________________________________________________________\n",
            "flatten_3 (Flatten)          (None, 16384)             0         \n",
            "_________________________________________________________________\n",
            "dense_6 (Dense)              (None, 512)               8389120   \n",
            "_________________________________________________________________\n",
            "dropout_6 (Dropout)          (None, 512)               0         \n",
            "_________________________________________________________________\n",
            "dropout_7 (Dropout)          (None, 512)               0         \n",
            "_________________________________________________________________\n",
            "dense_7 (Dense)              (None, 2)                 1026      \n",
            "=================================================================\n",
            "Total params: 8,778,562\n",
            "Trainable params: 8,778,562\n",
            "Non-trainable params: 0\n",
            "_________________________________________________________________\n"
          ]
        }
      ]
    },
    {
      "cell_type": "code",
      "metadata": {
        "id": "xb46YLAa0cCL"
      },
      "source": [
        "model.compile(optimizer='adam', loss='binary_crossentropy', metrics = ['accuracy'])"
      ],
      "execution_count": null,
      "outputs": []
    },
    {
      "cell_type": "code",
      "metadata": {
        "id": "Ekqa5lQHbEGp"
      },
      "source": [
        "epochs = 100\n",
        "batch_size = 64"
      ],
      "execution_count": null,
      "outputs": []
    },
    {
      "cell_type": "code",
      "metadata": {
        "id": "tfwCbT6ZEm2f",
        "colab": {
          "base_uri": "https://localhost:8080/"
        },
        "outputId": "3e099296-15ad-4199-c05d-bb93ddf3f252"
      },
      "source": [
        "init_lr = 1e-3\n",
        "optimizer = Adam(lr = init_lr, decay = init_lr/epochs)"
      ],
      "execution_count": null,
      "outputs": [
        {
          "output_type": "stream",
          "name": "stderr",
          "text": [
            "/usr/local/lib/python3.7/dist-packages/keras/optimizer_v2/optimizer_v2.py:356: UserWarning: The `lr` argument is deprecated, use `learning_rate` instead.\n",
            "  \"The `lr` argument is deprecated, use `learning_rate` instead.\")\n"
          ]
        }
      ]
    },
    {
      "cell_type": "code",
      "metadata": {
        "id": "y63ydSx-xBop"
      },
      "source": [
        "checkpoint = ModelCheckpoint(filepath='/content/Model_weights/MiniNet.h5',\n",
        "                             save_best_only=True,\n",
        "                             verbose=1,\n",
        "                             mode='min',\n",
        "                             moniter='val_loss'\n",
        "                            )\n",
        "reduce_lr = ReduceLROnPlateau(monitor='val_loss', \n",
        "                              factor=0.15, \n",
        "                              patience=8, \n",
        "                              verbose=1\n",
        "                             )\n",
        "csv_logger = CSVLogger('training.log')\n",
        "early_stopping = EarlyStopping(monitor = 'val_acc',\n",
        "                              min_delta = 0,\n",
        "                              patience =5,\n",
        "                              verbose = 0,\n",
        "                              mode = 'auto')\n",
        "\n",
        "callbacks = [checkpoint, reduce_lr, early_stopping, csv_logger]"
      ],
      "execution_count": null,
      "outputs": []
    },
    {
      "cell_type": "code",
      "metadata": {
        "colab": {
          "base_uri": "https://localhost:8080/"
        },
        "id": "3JonG8LQ0Yn2",
        "outputId": "621e2317-9a17-4d8a-d624-a14277beacd6"
      },
      "source": [
        "hist = model.fit(X_train,\n",
        "                 Y_train,\n",
        "                 batch_size = batch_size,\n",
        "                 epochs = epochs,\n",
        "                validation_data = (X_val, Y_val),\n",
        "                 verbose = 1, \n",
        "                callbacks = callbacks)\n"
      ],
      "execution_count": 66,
      "outputs": [
        {
          "output_type": "stream",
          "name": "stdout",
          "text": [
            "Epoch 1/100\n",
            "53/53 [==============================] - 6s 82ms/step - loss: 0.4789 - accuracy: 0.7664 - val_loss: 0.3415 - val_accuracy: 0.8764\n",
            "\n",
            "Epoch 00001: val_loss improved from inf to 0.34146, saving model to /content/Model_weights/MiniNet.h5\n",
            "WARNING:tensorflow:Early stopping conditioned on metric `val_acc` which is not available. Available metrics are: loss,accuracy,val_loss,val_accuracy,lr\n",
            "Epoch 2/100\n",
            "53/53 [==============================] - 4s 73ms/step - loss: 0.3592 - accuracy: 0.8625 - val_loss: 0.3281 - val_accuracy: 0.8860\n",
            "\n",
            "Epoch 00002: val_loss improved from 0.34146 to 0.32810, saving model to /content/Model_weights/MiniNet.h5\n",
            "WARNING:tensorflow:Early stopping conditioned on metric `val_acc` which is not available. Available metrics are: loss,accuracy,val_loss,val_accuracy,lr\n",
            "Epoch 3/100\n",
            "53/53 [==============================] - 4s 74ms/step - loss: 0.3358 - accuracy: 0.8733 - val_loss: 0.3528 - val_accuracy: 0.8764\n",
            "\n",
            "Epoch 00003: val_loss did not improve from 0.32810\n",
            "WARNING:tensorflow:Early stopping conditioned on metric `val_acc` which is not available. Available metrics are: loss,accuracy,val_loss,val_accuracy,lr\n",
            "Epoch 4/100\n",
            "53/53 [==============================] - 4s 73ms/step - loss: 0.3018 - accuracy: 0.8901 - val_loss: 0.3042 - val_accuracy: 0.8920\n",
            "\n",
            "Epoch 00004: val_loss improved from 0.32810 to 0.30416, saving model to /content/Model_weights/MiniNet.h5\n",
            "WARNING:tensorflow:Early stopping conditioned on metric `val_acc` which is not available. Available metrics are: loss,accuracy,val_loss,val_accuracy,lr\n",
            "Epoch 5/100\n",
            "53/53 [==============================] - 4s 74ms/step - loss: 0.2999 - accuracy: 0.8925 - val_loss: 0.3181 - val_accuracy: 0.8908\n",
            "\n",
            "Epoch 00005: val_loss did not improve from 0.30416\n",
            "WARNING:tensorflow:Early stopping conditioned on metric `val_acc` which is not available. Available metrics are: loss,accuracy,val_loss,val_accuracy,lr\n",
            "Epoch 6/100\n",
            "53/53 [==============================] - 4s 74ms/step - loss: 0.2786 - accuracy: 0.9012 - val_loss: 0.3185 - val_accuracy: 0.8836\n",
            "\n",
            "Epoch 00006: val_loss did not improve from 0.30416\n",
            "WARNING:tensorflow:Early stopping conditioned on metric `val_acc` which is not available. Available metrics are: loss,accuracy,val_loss,val_accuracy,lr\n",
            "Epoch 7/100\n",
            "53/53 [==============================] - 4s 74ms/step - loss: 0.2746 - accuracy: 0.9048 - val_loss: 0.3781 - val_accuracy: 0.8655\n",
            "\n",
            "Epoch 00007: val_loss did not improve from 0.30416\n",
            "WARNING:tensorflow:Early stopping conditioned on metric `val_acc` which is not available. Available metrics are: loss,accuracy,val_loss,val_accuracy,lr\n",
            "Epoch 8/100\n",
            "53/53 [==============================] - 4s 74ms/step - loss: 0.2633 - accuracy: 0.9078 - val_loss: 0.3071 - val_accuracy: 0.8956\n",
            "\n",
            "Epoch 00008: val_loss did not improve from 0.30416\n",
            "WARNING:tensorflow:Early stopping conditioned on metric `val_acc` which is not available. Available metrics are: loss,accuracy,val_loss,val_accuracy,lr\n",
            "Epoch 9/100\n",
            "53/53 [==============================] - 4s 74ms/step - loss: 0.2402 - accuracy: 0.9090 - val_loss: 0.2914 - val_accuracy: 0.8920\n",
            "\n",
            "Epoch 00009: val_loss improved from 0.30416 to 0.29142, saving model to /content/Model_weights/MiniNet.h5\n",
            "WARNING:tensorflow:Early stopping conditioned on metric `val_acc` which is not available. Available metrics are: loss,accuracy,val_loss,val_accuracy,lr\n",
            "Epoch 10/100\n",
            "53/53 [==============================] - 4s 74ms/step - loss: 0.2584 - accuracy: 0.9012 - val_loss: 0.3126 - val_accuracy: 0.8944\n",
            "\n",
            "Epoch 00010: val_loss did not improve from 0.29142\n",
            "WARNING:tensorflow:Early stopping conditioned on metric `val_acc` which is not available. Available metrics are: loss,accuracy,val_loss,val_accuracy,lr\n",
            "Epoch 11/100\n",
            "53/53 [==============================] - 4s 74ms/step - loss: 0.2339 - accuracy: 0.9126 - val_loss: 0.2878 - val_accuracy: 0.8956\n",
            "\n",
            "Epoch 00011: val_loss improved from 0.29142 to 0.28785, saving model to /content/Model_weights/MiniNet.h5\n",
            "WARNING:tensorflow:Early stopping conditioned on metric `val_acc` which is not available. Available metrics are: loss,accuracy,val_loss,val_accuracy,lr\n",
            "Epoch 12/100\n",
            "53/53 [==============================] - 4s 74ms/step - loss: 0.1991 - accuracy: 0.9258 - val_loss: 0.2831 - val_accuracy: 0.9040\n",
            "\n",
            "Epoch 00012: val_loss improved from 0.28785 to 0.28305, saving model to /content/Model_weights/MiniNet.h5\n",
            "WARNING:tensorflow:Early stopping conditioned on metric `val_acc` which is not available. Available metrics are: loss,accuracy,val_loss,val_accuracy,lr\n",
            "Epoch 13/100\n",
            "53/53 [==============================] - 4s 74ms/step - loss: 0.1967 - accuracy: 0.9222 - val_loss: 0.3343 - val_accuracy: 0.8896\n",
            "\n",
            "Epoch 00013: val_loss did not improve from 0.28305\n",
            "WARNING:tensorflow:Early stopping conditioned on metric `val_acc` which is not available. Available metrics are: loss,accuracy,val_loss,val_accuracy,lr\n",
            "Epoch 14/100\n",
            "53/53 [==============================] - 4s 74ms/step - loss: 0.1840 - accuracy: 0.9298 - val_loss: 0.2940 - val_accuracy: 0.8956\n",
            "\n",
            "Epoch 00014: val_loss did not improve from 0.28305\n",
            "WARNING:tensorflow:Early stopping conditioned on metric `val_acc` which is not available. Available metrics are: loss,accuracy,val_loss,val_accuracy,lr\n",
            "Epoch 15/100\n",
            "53/53 [==============================] - 4s 74ms/step - loss: 0.1627 - accuracy: 0.9385 - val_loss: 0.3142 - val_accuracy: 0.9004\n",
            "\n",
            "Epoch 00015: val_loss did not improve from 0.28305\n",
            "WARNING:tensorflow:Early stopping conditioned on metric `val_acc` which is not available. Available metrics are: loss,accuracy,val_loss,val_accuracy,lr\n",
            "Epoch 16/100\n",
            "53/53 [==============================] - 4s 74ms/step - loss: 0.1407 - accuracy: 0.9463 - val_loss: 0.3260 - val_accuracy: 0.8992\n",
            "\n",
            "Epoch 00016: val_loss did not improve from 0.28305\n",
            "WARNING:tensorflow:Early stopping conditioned on metric `val_acc` which is not available. Available metrics are: loss,accuracy,val_loss,val_accuracy,lr\n",
            "Epoch 17/100\n",
            "53/53 [==============================] - 4s 74ms/step - loss: 0.1654 - accuracy: 0.9376 - val_loss: 0.2965 - val_accuracy: 0.9052\n",
            "\n",
            "Epoch 00017: val_loss did not improve from 0.28305\n",
            "WARNING:tensorflow:Early stopping conditioned on metric `val_acc` which is not available. Available metrics are: loss,accuracy,val_loss,val_accuracy,lr\n",
            "Epoch 18/100\n",
            "53/53 [==============================] - 4s 75ms/step - loss: 0.1298 - accuracy: 0.9505 - val_loss: 0.3786 - val_accuracy: 0.8703\n",
            "\n",
            "Epoch 00018: val_loss did not improve from 0.28305\n",
            "WARNING:tensorflow:Early stopping conditioned on metric `val_acc` which is not available. Available metrics are: loss,accuracy,val_loss,val_accuracy,lr\n",
            "Epoch 19/100\n",
            "53/53 [==============================] - 4s 75ms/step - loss: 0.1125 - accuracy: 0.9544 - val_loss: 0.3334 - val_accuracy: 0.9148\n",
            "\n",
            "Epoch 00019: val_loss did not improve from 0.28305\n",
            "WARNING:tensorflow:Early stopping conditioned on metric `val_acc` which is not available. Available metrics are: loss,accuracy,val_loss,val_accuracy,lr\n",
            "Epoch 20/100\n",
            "53/53 [==============================] - 4s 75ms/step - loss: 0.1134 - accuracy: 0.9577 - val_loss: 0.3023 - val_accuracy: 0.9040\n",
            "\n",
            "Epoch 00020: val_loss did not improve from 0.28305\n",
            "\n",
            "Epoch 00020: ReduceLROnPlateau reducing learning rate to 0.0001500000071246177.\n",
            "WARNING:tensorflow:Early stopping conditioned on metric `val_acc` which is not available. Available metrics are: loss,accuracy,val_loss,val_accuracy,lr\n",
            "Epoch 21/100\n",
            "53/53 [==============================] - 4s 74ms/step - loss: 0.0848 - accuracy: 0.9691 - val_loss: 0.2932 - val_accuracy: 0.9220\n",
            "\n",
            "Epoch 00021: val_loss did not improve from 0.28305\n",
            "WARNING:tensorflow:Early stopping conditioned on metric `val_acc` which is not available. Available metrics are: loss,accuracy,val_loss,val_accuracy,lr\n",
            "Epoch 22/100\n",
            "53/53 [==============================] - 4s 74ms/step - loss: 0.0614 - accuracy: 0.9763 - val_loss: 0.3062 - val_accuracy: 0.9208\n",
            "\n",
            "Epoch 00022: val_loss did not improve from 0.28305\n",
            "WARNING:tensorflow:Early stopping conditioned on metric `val_acc` which is not available. Available metrics are: loss,accuracy,val_loss,val_accuracy,lr\n",
            "Epoch 23/100\n",
            "53/53 [==============================] - 4s 75ms/step - loss: 0.0572 - accuracy: 0.9766 - val_loss: 0.3108 - val_accuracy: 0.9196\n",
            "\n",
            "Epoch 00023: val_loss did not improve from 0.28305\n",
            "WARNING:tensorflow:Early stopping conditioned on metric `val_acc` which is not available. Available metrics are: loss,accuracy,val_loss,val_accuracy,lr\n",
            "Epoch 24/100\n",
            "53/53 [==============================] - 4s 74ms/step - loss: 0.0555 - accuracy: 0.9763 - val_loss: 0.3254 - val_accuracy: 0.9184\n",
            "\n",
            "Epoch 00024: val_loss did not improve from 0.28305\n",
            "WARNING:tensorflow:Early stopping conditioned on metric `val_acc` which is not available. Available metrics are: loss,accuracy,val_loss,val_accuracy,lr\n",
            "Epoch 25/100\n",
            "53/53 [==============================] - 4s 74ms/step - loss: 0.0497 - accuracy: 0.9814 - val_loss: 0.3249 - val_accuracy: 0.9268\n",
            "\n",
            "Epoch 00025: val_loss did not improve from 0.28305\n",
            "WARNING:tensorflow:Early stopping conditioned on metric `val_acc` which is not available. Available metrics are: loss,accuracy,val_loss,val_accuracy,lr\n",
            "Epoch 26/100\n",
            "53/53 [==============================] - 4s 75ms/step - loss: 0.0465 - accuracy: 0.9841 - val_loss: 0.3485 - val_accuracy: 0.9256\n",
            "\n",
            "Epoch 00026: val_loss did not improve from 0.28305\n",
            "WARNING:tensorflow:Early stopping conditioned on metric `val_acc` which is not available. Available metrics are: loss,accuracy,val_loss,val_accuracy,lr\n",
            "Epoch 27/100\n",
            "53/53 [==============================] - 4s 74ms/step - loss: 0.0472 - accuracy: 0.9811 - val_loss: 0.3444 - val_accuracy: 0.9184\n",
            "\n",
            "Epoch 00027: val_loss did not improve from 0.28305\n",
            "WARNING:tensorflow:Early stopping conditioned on metric `val_acc` which is not available. Available metrics are: loss,accuracy,val_loss,val_accuracy,lr\n",
            "Epoch 28/100\n",
            "53/53 [==============================] - 4s 75ms/step - loss: 0.0510 - accuracy: 0.9802 - val_loss: 0.3324 - val_accuracy: 0.9232\n",
            "\n",
            "Epoch 00028: val_loss did not improve from 0.28305\n",
            "\n",
            "Epoch 00028: ReduceLROnPlateau reducing learning rate to 2.2500001068692655e-05.\n",
            "WARNING:tensorflow:Early stopping conditioned on metric `val_acc` which is not available. Available metrics are: loss,accuracy,val_loss,val_accuracy,lr\n",
            "Epoch 29/100\n",
            "53/53 [==============================] - 4s 74ms/step - loss: 0.0397 - accuracy: 0.9844 - val_loss: 0.3288 - val_accuracy: 0.9184\n",
            "\n",
            "Epoch 00029: val_loss did not improve from 0.28305\n",
            "WARNING:tensorflow:Early stopping conditioned on metric `val_acc` which is not available. Available metrics are: loss,accuracy,val_loss,val_accuracy,lr\n",
            "Epoch 30/100\n",
            "53/53 [==============================] - 4s 75ms/step - loss: 0.0401 - accuracy: 0.9856 - val_loss: 0.3313 - val_accuracy: 0.9196\n",
            "\n",
            "Epoch 00030: val_loss did not improve from 0.28305\n",
            "WARNING:tensorflow:Early stopping conditioned on metric `val_acc` which is not available. Available metrics are: loss,accuracy,val_loss,val_accuracy,lr\n",
            "Epoch 31/100\n",
            "53/53 [==============================] - 4s 74ms/step - loss: 0.0398 - accuracy: 0.9868 - val_loss: 0.3366 - val_accuracy: 0.9208\n",
            "\n",
            "Epoch 00031: val_loss did not improve from 0.28305\n",
            "WARNING:tensorflow:Early stopping conditioned on metric `val_acc` which is not available. Available metrics are: loss,accuracy,val_loss,val_accuracy,lr\n",
            "Epoch 32/100\n",
            "53/53 [==============================] - 4s 75ms/step - loss: 0.0387 - accuracy: 0.9853 - val_loss: 0.3390 - val_accuracy: 0.9196\n",
            "\n",
            "Epoch 00032: val_loss did not improve from 0.28305\n",
            "WARNING:tensorflow:Early stopping conditioned on metric `val_acc` which is not available. Available metrics are: loss,accuracy,val_loss,val_accuracy,lr\n",
            "Epoch 33/100\n",
            "53/53 [==============================] - 4s 75ms/step - loss: 0.0395 - accuracy: 0.9853 - val_loss: 0.3426 - val_accuracy: 0.9184\n",
            "\n",
            "Epoch 00033: val_loss did not improve from 0.28305\n",
            "WARNING:tensorflow:Early stopping conditioned on metric `val_acc` which is not available. Available metrics are: loss,accuracy,val_loss,val_accuracy,lr\n",
            "Epoch 34/100\n",
            "53/53 [==============================] - 4s 74ms/step - loss: 0.0403 - accuracy: 0.9853 - val_loss: 0.3456 - val_accuracy: 0.9208\n",
            "\n",
            "Epoch 00034: val_loss did not improve from 0.28305\n",
            "WARNING:tensorflow:Early stopping conditioned on metric `val_acc` which is not available. Available metrics are: loss,accuracy,val_loss,val_accuracy,lr\n",
            "Epoch 35/100\n",
            "53/53 [==============================] - 4s 75ms/step - loss: 0.0392 - accuracy: 0.9868 - val_loss: 0.3441 - val_accuracy: 0.9220\n",
            "\n",
            "Epoch 00035: val_loss did not improve from 0.28305\n",
            "WARNING:tensorflow:Early stopping conditioned on metric `val_acc` which is not available. Available metrics are: loss,accuracy,val_loss,val_accuracy,lr\n",
            "Epoch 36/100\n",
            "53/53 [==============================] - 4s 74ms/step - loss: 0.0366 - accuracy: 0.9871 - val_loss: 0.3451 - val_accuracy: 0.9208\n",
            "\n",
            "Epoch 00036: val_loss did not improve from 0.28305\n",
            "\n",
            "Epoch 00036: ReduceLROnPlateau reducing learning rate to 3.3750000511645338e-06.\n",
            "WARNING:tensorflow:Early stopping conditioned on metric `val_acc` which is not available. Available metrics are: loss,accuracy,val_loss,val_accuracy,lr\n",
            "Epoch 37/100\n",
            "53/53 [==============================] - 4s 75ms/step - loss: 0.0385 - accuracy: 0.9853 - val_loss: 0.3468 - val_accuracy: 0.9196\n",
            "\n",
            "Epoch 00037: val_loss did not improve from 0.28305\n",
            "WARNING:tensorflow:Early stopping conditioned on metric `val_acc` which is not available. Available metrics are: loss,accuracy,val_loss,val_accuracy,lr\n",
            "Epoch 38/100\n",
            "53/53 [==============================] - 4s 75ms/step - loss: 0.0375 - accuracy: 0.9859 - val_loss: 0.3466 - val_accuracy: 0.9196\n",
            "\n",
            "Epoch 00038: val_loss did not improve from 0.28305\n",
            "WARNING:tensorflow:Early stopping conditioned on metric `val_acc` which is not available. Available metrics are: loss,accuracy,val_loss,val_accuracy,lr\n",
            "Epoch 39/100\n",
            "53/53 [==============================] - 4s 76ms/step - loss: 0.0362 - accuracy: 0.9880 - val_loss: 0.3477 - val_accuracy: 0.9196\n",
            "\n",
            "Epoch 00039: val_loss did not improve from 0.28305\n",
            "WARNING:tensorflow:Early stopping conditioned on metric `val_acc` which is not available. Available metrics are: loss,accuracy,val_loss,val_accuracy,lr\n",
            "Epoch 40/100\n",
            "53/53 [==============================] - 4s 74ms/step - loss: 0.0359 - accuracy: 0.9865 - val_loss: 0.3481 - val_accuracy: 0.9220\n",
            "\n",
            "Epoch 00040: val_loss did not improve from 0.28305\n",
            "WARNING:tensorflow:Early stopping conditioned on metric `val_acc` which is not available. Available metrics are: loss,accuracy,val_loss,val_accuracy,lr\n",
            "Epoch 41/100\n",
            "53/53 [==============================] - 4s 74ms/step - loss: 0.0376 - accuracy: 0.9841 - val_loss: 0.3477 - val_accuracy: 0.9208\n",
            "\n",
            "Epoch 00041: val_loss did not improve from 0.28305\n",
            "WARNING:tensorflow:Early stopping conditioned on metric `val_acc` which is not available. Available metrics are: loss,accuracy,val_loss,val_accuracy,lr\n",
            "Epoch 42/100\n",
            "53/53 [==============================] - 4s 75ms/step - loss: 0.0377 - accuracy: 0.9850 - val_loss: 0.3469 - val_accuracy: 0.9196\n",
            "\n",
            "Epoch 00042: val_loss did not improve from 0.28305\n",
            "WARNING:tensorflow:Early stopping conditioned on metric `val_acc` which is not available. Available metrics are: loss,accuracy,val_loss,val_accuracy,lr\n",
            "Epoch 43/100\n",
            "53/53 [==============================] - 4s 74ms/step - loss: 0.0355 - accuracy: 0.9865 - val_loss: 0.3475 - val_accuracy: 0.9208\n",
            "\n",
            "Epoch 00043: val_loss did not improve from 0.28305\n",
            "WARNING:tensorflow:Early stopping conditioned on metric `val_acc` which is not available. Available metrics are: loss,accuracy,val_loss,val_accuracy,lr\n",
            "Epoch 44/100\n",
            "53/53 [==============================] - 4s 74ms/step - loss: 0.0360 - accuracy: 0.9889 - val_loss: 0.3483 - val_accuracy: 0.9208\n",
            "\n",
            "Epoch 00044: val_loss did not improve from 0.28305\n",
            "\n",
            "Epoch 00044: ReduceLROnPlateau reducing learning rate to 5.062500008534698e-07.\n",
            "WARNING:tensorflow:Early stopping conditioned on metric `val_acc` which is not available. Available metrics are: loss,accuracy,val_loss,val_accuracy,lr\n",
            "Epoch 45/100\n",
            "53/53 [==============================] - 4s 75ms/step - loss: 0.0373 - accuracy: 0.9880 - val_loss: 0.3484 - val_accuracy: 0.9208\n",
            "\n",
            "Epoch 00045: val_loss did not improve from 0.28305\n",
            "WARNING:tensorflow:Early stopping conditioned on metric `val_acc` which is not available. Available metrics are: loss,accuracy,val_loss,val_accuracy,lr\n",
            "Epoch 46/100\n",
            "53/53 [==============================] - 4s 75ms/step - loss: 0.0364 - accuracy: 0.9865 - val_loss: 0.3485 - val_accuracy: 0.9208\n",
            "\n",
            "Epoch 00046: val_loss did not improve from 0.28305\n",
            "WARNING:tensorflow:Early stopping conditioned on metric `val_acc` which is not available. Available metrics are: loss,accuracy,val_loss,val_accuracy,lr\n",
            "Epoch 47/100\n",
            "53/53 [==============================] - 4s 74ms/step - loss: 0.0377 - accuracy: 0.9859 - val_loss: 0.3486 - val_accuracy: 0.9208\n",
            "\n",
            "Epoch 00047: val_loss did not improve from 0.28305\n",
            "WARNING:tensorflow:Early stopping conditioned on metric `val_acc` which is not available. Available metrics are: loss,accuracy,val_loss,val_accuracy,lr\n",
            "Epoch 48/100\n",
            "53/53 [==============================] - 4s 74ms/step - loss: 0.0349 - accuracy: 0.9877 - val_loss: 0.3487 - val_accuracy: 0.9208\n",
            "\n",
            "Epoch 00048: val_loss did not improve from 0.28305\n",
            "WARNING:tensorflow:Early stopping conditioned on metric `val_acc` which is not available. Available metrics are: loss,accuracy,val_loss,val_accuracy,lr\n",
            "Epoch 49/100\n",
            "53/53 [==============================] - 4s 75ms/step - loss: 0.0353 - accuracy: 0.9862 - val_loss: 0.3489 - val_accuracy: 0.9196\n",
            "\n",
            "Epoch 00049: val_loss did not improve from 0.28305\n",
            "WARNING:tensorflow:Early stopping conditioned on metric `val_acc` which is not available. Available metrics are: loss,accuracy,val_loss,val_accuracy,lr\n",
            "Epoch 50/100\n",
            "53/53 [==============================] - 4s 74ms/step - loss: 0.0367 - accuracy: 0.9865 - val_loss: 0.3490 - val_accuracy: 0.9196\n",
            "\n",
            "Epoch 00050: val_loss did not improve from 0.28305\n",
            "WARNING:tensorflow:Early stopping conditioned on metric `val_acc` which is not available. Available metrics are: loss,accuracy,val_loss,val_accuracy,lr\n",
            "Epoch 51/100\n",
            "53/53 [==============================] - 4s 75ms/step - loss: 0.0368 - accuracy: 0.9865 - val_loss: 0.3492 - val_accuracy: 0.9196\n",
            "\n",
            "Epoch 00051: val_loss did not improve from 0.28305\n",
            "WARNING:tensorflow:Early stopping conditioned on metric `val_acc` which is not available. Available metrics are: loss,accuracy,val_loss,val_accuracy,lr\n",
            "Epoch 52/100\n",
            "53/53 [==============================] - 4s 75ms/step - loss: 0.0362 - accuracy: 0.9868 - val_loss: 0.3493 - val_accuracy: 0.9196\n",
            "\n",
            "Epoch 00052: val_loss did not improve from 0.28305\n",
            "\n",
            "Epoch 00052: ReduceLROnPlateau reducing learning rate to 7.59374984227179e-08.\n",
            "WARNING:tensorflow:Early stopping conditioned on metric `val_acc` which is not available. Available metrics are: loss,accuracy,val_loss,val_accuracy,lr\n",
            "Epoch 53/100\n",
            "53/53 [==============================] - 4s 75ms/step - loss: 0.0356 - accuracy: 0.9865 - val_loss: 0.3493 - val_accuracy: 0.9196\n",
            "\n",
            "Epoch 00053: val_loss did not improve from 0.28305\n",
            "WARNING:tensorflow:Early stopping conditioned on metric `val_acc` which is not available. Available metrics are: loss,accuracy,val_loss,val_accuracy,lr\n",
            "Epoch 54/100\n",
            "53/53 [==============================] - 4s 74ms/step - loss: 0.0379 - accuracy: 0.9862 - val_loss: 0.3493 - val_accuracy: 0.9196\n",
            "\n",
            "Epoch 00054: val_loss did not improve from 0.28305\n",
            "WARNING:tensorflow:Early stopping conditioned on metric `val_acc` which is not available. Available metrics are: loss,accuracy,val_loss,val_accuracy,lr\n",
            "Epoch 55/100\n",
            "53/53 [==============================] - 4s 74ms/step - loss: 0.0356 - accuracy: 0.9865 - val_loss: 0.3493 - val_accuracy: 0.9196\n",
            "\n",
            "Epoch 00055: val_loss did not improve from 0.28305\n",
            "WARNING:tensorflow:Early stopping conditioned on metric `val_acc` which is not available. Available metrics are: loss,accuracy,val_loss,val_accuracy,lr\n",
            "Epoch 56/100\n",
            "53/53 [==============================] - 4s 75ms/step - loss: 0.0368 - accuracy: 0.9865 - val_loss: 0.3493 - val_accuracy: 0.9196\n",
            "\n",
            "Epoch 00056: val_loss did not improve from 0.28305\n",
            "WARNING:tensorflow:Early stopping conditioned on metric `val_acc` which is not available. Available metrics are: loss,accuracy,val_loss,val_accuracy,lr\n",
            "Epoch 57/100\n",
            "53/53 [==============================] - 4s 75ms/step - loss: 0.0369 - accuracy: 0.9856 - val_loss: 0.3493 - val_accuracy: 0.9196\n",
            "\n",
            "Epoch 00057: val_loss did not improve from 0.28305\n",
            "WARNING:tensorflow:Early stopping conditioned on metric `val_acc` which is not available. Available metrics are: loss,accuracy,val_loss,val_accuracy,lr\n",
            "Epoch 58/100\n",
            "53/53 [==============================] - 4s 75ms/step - loss: 0.0373 - accuracy: 0.9856 - val_loss: 0.3493 - val_accuracy: 0.9196\n",
            "\n",
            "Epoch 00058: val_loss did not improve from 0.28305\n",
            "WARNING:tensorflow:Early stopping conditioned on metric `val_acc` which is not available. Available metrics are: loss,accuracy,val_loss,val_accuracy,lr\n",
            "Epoch 59/100\n",
            "53/53 [==============================] - 4s 75ms/step - loss: 0.0364 - accuracy: 0.9865 - val_loss: 0.3493 - val_accuracy: 0.9196\n",
            "\n",
            "Epoch 00059: val_loss did not improve from 0.28305\n",
            "WARNING:tensorflow:Early stopping conditioned on metric `val_acc` which is not available. Available metrics are: loss,accuracy,val_loss,val_accuracy,lr\n",
            "Epoch 60/100\n",
            "53/53 [==============================] - 4s 74ms/step - loss: 0.0366 - accuracy: 0.9871 - val_loss: 0.3493 - val_accuracy: 0.9196\n",
            "\n",
            "Epoch 00060: val_loss did not improve from 0.28305\n",
            "\n",
            "Epoch 00060: ReduceLROnPlateau reducing learning rate to 1.1390624976570507e-08.\n",
            "WARNING:tensorflow:Early stopping conditioned on metric `val_acc` which is not available. Available metrics are: loss,accuracy,val_loss,val_accuracy,lr\n",
            "Epoch 61/100\n",
            "53/53 [==============================] - 4s 75ms/step - loss: 0.0372 - accuracy: 0.9850 - val_loss: 0.3493 - val_accuracy: 0.9196\n",
            "\n",
            "Epoch 00061: val_loss did not improve from 0.28305\n",
            "WARNING:tensorflow:Early stopping conditioned on metric `val_acc` which is not available. Available metrics are: loss,accuracy,val_loss,val_accuracy,lr\n",
            "Epoch 62/100\n",
            "53/53 [==============================] - 4s 75ms/step - loss: 0.0361 - accuracy: 0.9874 - val_loss: 0.3493 - val_accuracy: 0.9196\n",
            "\n",
            "Epoch 00062: val_loss did not improve from 0.28305\n",
            "WARNING:tensorflow:Early stopping conditioned on metric `val_acc` which is not available. Available metrics are: loss,accuracy,val_loss,val_accuracy,lr\n",
            "Epoch 63/100\n",
            "53/53 [==============================] - 4s 74ms/step - loss: 0.0359 - accuracy: 0.9877 - val_loss: 0.3493 - val_accuracy: 0.9196\n",
            "\n",
            "Epoch 00063: val_loss did not improve from 0.28305\n",
            "WARNING:tensorflow:Early stopping conditioned on metric `val_acc` which is not available. Available metrics are: loss,accuracy,val_loss,val_accuracy,lr\n",
            "Epoch 64/100\n",
            "53/53 [==============================] - 4s 75ms/step - loss: 0.0370 - accuracy: 0.9859 - val_loss: 0.3493 - val_accuracy: 0.9196\n",
            "\n",
            "Epoch 00064: val_loss did not improve from 0.28305\n",
            "WARNING:tensorflow:Early stopping conditioned on metric `val_acc` which is not available. Available metrics are: loss,accuracy,val_loss,val_accuracy,lr\n",
            "Epoch 65/100\n",
            "53/53 [==============================] - 4s 74ms/step - loss: 0.0367 - accuracy: 0.9865 - val_loss: 0.3493 - val_accuracy: 0.9196\n",
            "\n",
            "Epoch 00065: val_loss did not improve from 0.28305\n",
            "WARNING:tensorflow:Early stopping conditioned on metric `val_acc` which is not available. Available metrics are: loss,accuracy,val_loss,val_accuracy,lr\n",
            "Epoch 66/100\n",
            "53/53 [==============================] - 4s 75ms/step - loss: 0.0352 - accuracy: 0.9868 - val_loss: 0.3493 - val_accuracy: 0.9196\n",
            "\n",
            "Epoch 00066: val_loss did not improve from 0.28305\n",
            "WARNING:tensorflow:Early stopping conditioned on metric `val_acc` which is not available. Available metrics are: loss,accuracy,val_loss,val_accuracy,lr\n",
            "Epoch 67/100\n",
            "53/53 [==============================] - 4s 75ms/step - loss: 0.0363 - accuracy: 0.9871 - val_loss: 0.3493 - val_accuracy: 0.9196\n",
            "\n",
            "Epoch 00067: val_loss did not improve from 0.28305\n",
            "WARNING:tensorflow:Early stopping conditioned on metric `val_acc` which is not available. Available metrics are: loss,accuracy,val_loss,val_accuracy,lr\n",
            "Epoch 68/100\n",
            "53/53 [==============================] - 4s 74ms/step - loss: 0.0375 - accuracy: 0.9865 - val_loss: 0.3493 - val_accuracy: 0.9196\n",
            "\n",
            "Epoch 00068: val_loss did not improve from 0.28305\n",
            "\n",
            "Epoch 00068: ReduceLROnPlateau reducing learning rate to 1.7085937997762811e-09.\n",
            "WARNING:tensorflow:Early stopping conditioned on metric `val_acc` which is not available. Available metrics are: loss,accuracy,val_loss,val_accuracy,lr\n",
            "Epoch 69/100\n",
            "53/53 [==============================] - 4s 74ms/step - loss: 0.0375 - accuracy: 0.9850 - val_loss: 0.3493 - val_accuracy: 0.9196\n",
            "\n",
            "Epoch 00069: val_loss did not improve from 0.28305\n",
            "WARNING:tensorflow:Early stopping conditioned on metric `val_acc` which is not available. Available metrics are: loss,accuracy,val_loss,val_accuracy,lr\n",
            "Epoch 70/100\n",
            "53/53 [==============================] - 4s 75ms/step - loss: 0.0359 - accuracy: 0.9865 - val_loss: 0.3493 - val_accuracy: 0.9196\n",
            "\n",
            "Epoch 00070: val_loss did not improve from 0.28305\n",
            "WARNING:tensorflow:Early stopping conditioned on metric `val_acc` which is not available. Available metrics are: loss,accuracy,val_loss,val_accuracy,lr\n",
            "Epoch 71/100\n",
            "53/53 [==============================] - 4s 75ms/step - loss: 0.0374 - accuracy: 0.9871 - val_loss: 0.3493 - val_accuracy: 0.9196\n",
            "\n",
            "Epoch 00071: val_loss did not improve from 0.28305\n",
            "WARNING:tensorflow:Early stopping conditioned on metric `val_acc` which is not available. Available metrics are: loss,accuracy,val_loss,val_accuracy,lr\n",
            "Epoch 72/100\n",
            "53/53 [==============================] - 4s 75ms/step - loss: 0.0367 - accuracy: 0.9877 - val_loss: 0.3493 - val_accuracy: 0.9196\n",
            "\n",
            "Epoch 00072: val_loss did not improve from 0.28305\n",
            "WARNING:tensorflow:Early stopping conditioned on metric `val_acc` which is not available. Available metrics are: loss,accuracy,val_loss,val_accuracy,lr\n",
            "Epoch 73/100\n",
            "53/53 [==============================] - 4s 75ms/step - loss: 0.0350 - accuracy: 0.9889 - val_loss: 0.3493 - val_accuracy: 0.9196\n",
            "\n",
            "Epoch 00073: val_loss did not improve from 0.28305\n",
            "WARNING:tensorflow:Early stopping conditioned on metric `val_acc` which is not available. Available metrics are: loss,accuracy,val_loss,val_accuracy,lr\n",
            "Epoch 74/100\n",
            "53/53 [==============================] - 4s 75ms/step - loss: 0.0365 - accuracy: 0.9853 - val_loss: 0.3493 - val_accuracy: 0.9196\n",
            "\n",
            "Epoch 00074: val_loss did not improve from 0.28305\n",
            "WARNING:tensorflow:Early stopping conditioned on metric `val_acc` which is not available. Available metrics are: loss,accuracy,val_loss,val_accuracy,lr\n",
            "Epoch 75/100\n",
            "53/53 [==============================] - 4s 75ms/step - loss: 0.0357 - accuracy: 0.9874 - val_loss: 0.3493 - val_accuracy: 0.9196\n",
            "\n",
            "Epoch 00075: val_loss did not improve from 0.28305\n",
            "WARNING:tensorflow:Early stopping conditioned on metric `val_acc` which is not available. Available metrics are: loss,accuracy,val_loss,val_accuracy,lr\n",
            "Epoch 76/100\n",
            "53/53 [==============================] - 4s 75ms/step - loss: 0.0372 - accuracy: 0.9862 - val_loss: 0.3493 - val_accuracy: 0.9196\n",
            "\n",
            "Epoch 00076: val_loss did not improve from 0.28305\n",
            "\n",
            "Epoch 00076: ReduceLROnPlateau reducing learning rate to 2.5628907329711126e-10.\n",
            "WARNING:tensorflow:Early stopping conditioned on metric `val_acc` which is not available. Available metrics are: loss,accuracy,val_loss,val_accuracy,lr\n",
            "Epoch 77/100\n",
            "53/53 [==============================] - 4s 74ms/step - loss: 0.0370 - accuracy: 0.9862 - val_loss: 0.3493 - val_accuracy: 0.9196\n",
            "\n",
            "Epoch 00077: val_loss did not improve from 0.28305\n",
            "WARNING:tensorflow:Early stopping conditioned on metric `val_acc` which is not available. Available metrics are: loss,accuracy,val_loss,val_accuracy,lr\n",
            "Epoch 78/100\n",
            "53/53 [==============================] - 4s 75ms/step - loss: 0.0365 - accuracy: 0.9868 - val_loss: 0.3493 - val_accuracy: 0.9196\n",
            "\n",
            "Epoch 00078: val_loss did not improve from 0.28305\n",
            "WARNING:tensorflow:Early stopping conditioned on metric `val_acc` which is not available. Available metrics are: loss,accuracy,val_loss,val_accuracy,lr\n",
            "Epoch 79/100\n",
            "53/53 [==============================] - 4s 75ms/step - loss: 0.0380 - accuracy: 0.9856 - val_loss: 0.3493 - val_accuracy: 0.9196\n",
            "\n",
            "Epoch 00079: val_loss did not improve from 0.28305\n",
            "WARNING:tensorflow:Early stopping conditioned on metric `val_acc` which is not available. Available metrics are: loss,accuracy,val_loss,val_accuracy,lr\n",
            "Epoch 80/100\n",
            "53/53 [==============================] - 4s 75ms/step - loss: 0.0373 - accuracy: 0.9862 - val_loss: 0.3493 - val_accuracy: 0.9196\n",
            "\n",
            "Epoch 00080: val_loss did not improve from 0.28305\n",
            "WARNING:tensorflow:Early stopping conditioned on metric `val_acc` which is not available. Available metrics are: loss,accuracy,val_loss,val_accuracy,lr\n",
            "Epoch 81/100\n",
            "53/53 [==============================] - 4s 74ms/step - loss: 0.0376 - accuracy: 0.9865 - val_loss: 0.3493 - val_accuracy: 0.9196\n",
            "\n",
            "Epoch 00081: val_loss did not improve from 0.28305\n",
            "WARNING:tensorflow:Early stopping conditioned on metric `val_acc` which is not available. Available metrics are: loss,accuracy,val_loss,val_accuracy,lr\n",
            "Epoch 82/100\n",
            "53/53 [==============================] - 4s 75ms/step - loss: 0.0376 - accuracy: 0.9865 - val_loss: 0.3493 - val_accuracy: 0.9196\n",
            "\n",
            "Epoch 00082: val_loss did not improve from 0.28305\n",
            "WARNING:tensorflow:Early stopping conditioned on metric `val_acc` which is not available. Available metrics are: loss,accuracy,val_loss,val_accuracy,lr\n",
            "Epoch 83/100\n",
            "53/53 [==============================] - 4s 74ms/step - loss: 0.0373 - accuracy: 0.9868 - val_loss: 0.3493 - val_accuracy: 0.9196\n",
            "\n",
            "Epoch 00083: val_loss did not improve from 0.28305\n",
            "WARNING:tensorflow:Early stopping conditioned on metric `val_acc` which is not available. Available metrics are: loss,accuracy,val_loss,val_accuracy,lr\n",
            "Epoch 84/100\n",
            "53/53 [==============================] - 4s 75ms/step - loss: 0.0374 - accuracy: 0.9853 - val_loss: 0.3493 - val_accuracy: 0.9196\n",
            "\n",
            "Epoch 00084: val_loss did not improve from 0.28305\n",
            "\n",
            "Epoch 00084: ReduceLROnPlateau reducing learning rate to 3.844336099456669e-11.\n",
            "WARNING:tensorflow:Early stopping conditioned on metric `val_acc` which is not available. Available metrics are: loss,accuracy,val_loss,val_accuracy,lr\n",
            "Epoch 85/100\n",
            "53/53 [==============================] - 4s 74ms/step - loss: 0.0369 - accuracy: 0.9868 - val_loss: 0.3493 - val_accuracy: 0.9196\n",
            "\n",
            "Epoch 00085: val_loss did not improve from 0.28305\n",
            "WARNING:tensorflow:Early stopping conditioned on metric `val_acc` which is not available. Available metrics are: loss,accuracy,val_loss,val_accuracy,lr\n",
            "Epoch 86/100\n",
            "53/53 [==============================] - 4s 75ms/step - loss: 0.0359 - accuracy: 0.9871 - val_loss: 0.3493 - val_accuracy: 0.9196\n",
            "\n",
            "Epoch 00086: val_loss did not improve from 0.28305\n",
            "WARNING:tensorflow:Early stopping conditioned on metric `val_acc` which is not available. Available metrics are: loss,accuracy,val_loss,val_accuracy,lr\n",
            "Epoch 87/100\n",
            "53/53 [==============================] - 4s 75ms/step - loss: 0.0351 - accuracy: 0.9862 - val_loss: 0.3493 - val_accuracy: 0.9196\n",
            "\n",
            "Epoch 00087: val_loss did not improve from 0.28305\n",
            "WARNING:tensorflow:Early stopping conditioned on metric `val_acc` which is not available. Available metrics are: loss,accuracy,val_loss,val_accuracy,lr\n",
            "Epoch 88/100\n",
            "53/53 [==============================] - 4s 75ms/step - loss: 0.0373 - accuracy: 0.9853 - val_loss: 0.3493 - val_accuracy: 0.9196\n",
            "\n",
            "Epoch 00088: val_loss did not improve from 0.28305\n",
            "WARNING:tensorflow:Early stopping conditioned on metric `val_acc` which is not available. Available metrics are: loss,accuracy,val_loss,val_accuracy,lr\n",
            "Epoch 89/100\n",
            "53/53 [==============================] - 4s 76ms/step - loss: 0.0373 - accuracy: 0.9856 - val_loss: 0.3493 - val_accuracy: 0.9196\n",
            "\n",
            "Epoch 00089: val_loss did not improve from 0.28305\n",
            "WARNING:tensorflow:Early stopping conditioned on metric `val_acc` which is not available. Available metrics are: loss,accuracy,val_loss,val_accuracy,lr\n",
            "Epoch 90/100\n",
            "53/53 [==============================] - 4s 75ms/step - loss: 0.0378 - accuracy: 0.9868 - val_loss: 0.3493 - val_accuracy: 0.9196\n",
            "\n",
            "Epoch 00090: val_loss did not improve from 0.28305\n",
            "WARNING:tensorflow:Early stopping conditioned on metric `val_acc` which is not available. Available metrics are: loss,accuracy,val_loss,val_accuracy,lr\n",
            "Epoch 91/100\n",
            "53/53 [==============================] - 4s 75ms/step - loss: 0.0357 - accuracy: 0.9862 - val_loss: 0.3493 - val_accuracy: 0.9196\n",
            "\n",
            "Epoch 00091: val_loss did not improve from 0.28305\n",
            "WARNING:tensorflow:Early stopping conditioned on metric `val_acc` which is not available. Available metrics are: loss,accuracy,val_loss,val_accuracy,lr\n",
            "Epoch 92/100\n",
            "53/53 [==============================] - 4s 75ms/step - loss: 0.0365 - accuracy: 0.9871 - val_loss: 0.3493 - val_accuracy: 0.9196\n",
            "\n",
            "Epoch 00092: val_loss did not improve from 0.28305\n",
            "\n",
            "Epoch 00092: ReduceLROnPlateau reducing learning rate to 5.766503941018186e-12.\n",
            "WARNING:tensorflow:Early stopping conditioned on metric `val_acc` which is not available. Available metrics are: loss,accuracy,val_loss,val_accuracy,lr\n",
            "Epoch 93/100\n",
            "53/53 [==============================] - 4s 73ms/step - loss: 0.0367 - accuracy: 0.9859 - val_loss: 0.3493 - val_accuracy: 0.9196\n",
            "\n",
            "Epoch 00093: val_loss did not improve from 0.28305\n",
            "WARNING:tensorflow:Early stopping conditioned on metric `val_acc` which is not available. Available metrics are: loss,accuracy,val_loss,val_accuracy,lr\n",
            "Epoch 94/100\n",
            "53/53 [==============================] - 4s 75ms/step - loss: 0.0365 - accuracy: 0.9868 - val_loss: 0.3493 - val_accuracy: 0.9196\n",
            "\n",
            "Epoch 00094: val_loss did not improve from 0.28305\n",
            "WARNING:tensorflow:Early stopping conditioned on metric `val_acc` which is not available. Available metrics are: loss,accuracy,val_loss,val_accuracy,lr\n",
            "Epoch 95/100\n",
            "53/53 [==============================] - 4s 75ms/step - loss: 0.0375 - accuracy: 0.9865 - val_loss: 0.3493 - val_accuracy: 0.9196\n",
            "\n",
            "Epoch 00095: val_loss did not improve from 0.28305\n",
            "WARNING:tensorflow:Early stopping conditioned on metric `val_acc` which is not available. Available metrics are: loss,accuracy,val_loss,val_accuracy,lr\n",
            "Epoch 96/100\n",
            "53/53 [==============================] - 4s 76ms/step - loss: 0.0366 - accuracy: 0.9856 - val_loss: 0.3493 - val_accuracy: 0.9196\n",
            "\n",
            "Epoch 00096: val_loss did not improve from 0.28305\n",
            "WARNING:tensorflow:Early stopping conditioned on metric `val_acc` which is not available. Available metrics are: loss,accuracy,val_loss,val_accuracy,lr\n",
            "Epoch 97/100\n",
            "53/53 [==============================] - 4s 76ms/step - loss: 0.0367 - accuracy: 0.9853 - val_loss: 0.3493 - val_accuracy: 0.9196\n",
            "\n",
            "Epoch 00097: val_loss did not improve from 0.28305\n",
            "WARNING:tensorflow:Early stopping conditioned on metric `val_acc` which is not available. Available metrics are: loss,accuracy,val_loss,val_accuracy,lr\n",
            "Epoch 98/100\n",
            "53/53 [==============================] - 4s 75ms/step - loss: 0.0367 - accuracy: 0.9862 - val_loss: 0.3493 - val_accuracy: 0.9196\n",
            "\n",
            "Epoch 00098: val_loss did not improve from 0.28305\n",
            "WARNING:tensorflow:Early stopping conditioned on metric `val_acc` which is not available. Available metrics are: loss,accuracy,val_loss,val_accuracy,lr\n",
            "Epoch 99/100\n",
            "53/53 [==============================] - 4s 75ms/step - loss: 0.0369 - accuracy: 0.9850 - val_loss: 0.3493 - val_accuracy: 0.9196\n",
            "\n",
            "Epoch 00099: val_loss did not improve from 0.28305\n",
            "WARNING:tensorflow:Early stopping conditioned on metric `val_acc` which is not available. Available metrics are: loss,accuracy,val_loss,val_accuracy,lr\n",
            "Epoch 100/100\n",
            "53/53 [==============================] - 4s 76ms/step - loss: 0.0370 - accuracy: 0.9856 - val_loss: 0.3493 - val_accuracy: 0.9196\n",
            "\n",
            "Epoch 00100: val_loss did not improve from 0.28305\n",
            "\n",
            "Epoch 00100: ReduceLROnPlateau reducing learning rate to 8.64975604163154e-13.\n",
            "WARNING:tensorflow:Early stopping conditioned on metric `val_acc` which is not available. Available metrics are: loss,accuracy,val_loss,val_accuracy,lr\n"
          ]
        }
      ]
    },
    {
      "cell_type": "code",
      "metadata": {
        "id": "kt02ZOzg0r3X"
      },
      "source": [
        "model.save('MiniNet_Model_casia_run1.h5')"
      ],
      "execution_count": 67,
      "outputs": []
    },
    {
      "cell_type": "code",
      "metadata": {
        "colab": {
          "base_uri": "https://localhost:8080/",
          "height": 573
        },
        "id": "FFcn4ZHh73bC",
        "outputId": "fb544fcf-496f-43fc-b8f8-bc40c14ecf92"
      },
      "source": [
        "plt.plot(hist.history['accuracy'])\n",
        "plt.plot(hist.history['val_accuracy'])\n",
        "plt.title('Model Accuracy')\n",
        "plt.ylabel('Accuracy')\n",
        "plt.xlabel('Epoch')\n",
        "plt.legend(['Train', 'Val'], loc='upper right')\n",
        "plt.show()\n",
        "\n",
        "\n",
        "plt.plot(hist.history['loss'])\n",
        "plt.plot(hist.history['val_loss'])\n",
        "plt.title('Model Loss')\n",
        "plt.ylabel('Loss')\n",
        "plt.xlabel('Epoch')\n",
        "plt.legend(['Train', 'Val'], loc='upper right')\n",
        "plt.show()"
      ],
      "execution_count": 68,
      "outputs": [
        {
          "output_type": "display_data",
          "data": {
            "image/png": "[encoded data removed]",
            "text/plain": [
              "<Figure size 432x288 with 1 Axes>"
            ]
          },
          "metadata": {
            "needs_background": "light"
          }
        },
        {
          "output_type": "display_data",
          "data": {
            "image/png": "[encoded data removed]",
            "text/plain": [
              "<Figure size 432x288 with 1 Axes>"
            ]
          },
          "metadata": {
            "needs_background": "light"
          }
        }
      ]
    },
    {
      "cell_type": "code",
      "metadata": {
        "id": "_XPpZ7fq8mGm"
      },
      "source": [
        "def plot_confusion_matrix(cm, classes,\n",
        "                          normalize=False,\n",
        "                          title='Confusion matrix',\n",
        "                          cmap=plt.cm.Blues):\n",
        "    \"\"\"\n",
        "    This function prints and plots the confusion matrix.\n",
        "    Normalization can be applied by setting `normalize=True`.\n",
        "    \"\"\"\n",
        "    plt.imshow(cm, interpolation='nearest', cmap=cmap)\n",
        "    plt.title(title)\n",
        "    plt.colorbar()\n",
        "    tick_marks = np.arange(len(classes))\n",
        "    plt.xticks(tick_marks, classes, rotation=45)\n",
        "    plt.yticks(tick_marks, classes)\n",
        "\n",
        "    if normalize:\n",
        "        cm = cm.astype('float') / cm.sum(axis=1)[:, np.newaxis]\n",
        "\n",
        "    thresh = cm.max() / 2.\n",
        "    for i, j in itertools.product(range(cm.shape[0]), range(cm.shape[1])):\n",
        "        plt.text(j, i, cm[i, j],\n",
        "                 horizontalalignment=\"center\",\n",
        "                 color=\"white\" if cm[i, j] > thresh else \"black\")\n",
        "\n",
        "    plt.tight_layout()\n",
        "    plt.ylabel('True label')\n",
        "    plt.xlabel('Predicted label')\n",
        "    "
      ],
      "execution_count": 69,
      "outputs": []
    },
    {
      "cell_type": "code",
      "metadata": {
        "colab": {
          "base_uri": "https://localhost:8080/",
          "height": 311
        },
        "id": "eKQSyiVf73S9",
        "outputId": "572837f0-60c1-4d5f-c11f-e742de499aa4"
      },
      "source": [
        "# Predict the values from the validation dataset\n",
        "Y_pred = model.predict(X_val)\n",
        "# Convert predictions classes to one hot vectors \n",
        "Y_pred_classes = np.argmax(Y_pred,axis = 1) \n",
        "# Convert validation observations to one hot vectors\n",
        "Y_true = np.argmax(Y_val,axis = 1) \n",
        "# compute the confusion matrix\n",
        "confusion_mtx = confusion_matrix(Y_true, Y_pred_classes) \n",
        "# plot the confusion matrix\n",
        "plot_confusion_matrix(confusion_mtx, classes = range(2))"
      ],
      "execution_count": 70,
      "outputs": [
        {
          "output_type": "display_data",
          "data": {
            "image/png": "[encoded data removed]",
            "text/plain": [
              "<Figure size 432x288 with 2 Axes>"
            ]
          },
          "metadata": {
            "needs_background": "light"
          }
        }
      ]
    },
    {
      "cell_type": "code",
      "metadata": {
        "id": "MQntJkRRTAIy"
      },
      "source": [
        "import os, datetime\n",
        "\n",
        "import tensorflow as tf\n",
        "from tensorflow.keras.preprocessing.image import ImageDataGenerator\n",
        "from tensorflow.keras.utils import plot_model\n",
        "\n",
        "from PIL import Image\n",
        "import matplotlib.pyplot as plt\n",
        "\n",
        "import pydotplus\n",
        "import pydot"
      ],
      "execution_count": 71,
      "outputs": []
    },
    {
      "cell_type": "code",
      "metadata": {
        "id": "cM96qGIATAGR"
      },
      "source": [
        "tf.keras.utils.pydot = pydot"
      ],
      "execution_count": 72,
      "outputs": []
    },
    {
      "cell_type": "code",
      "metadata": {
        "colab": {
          "base_uri": "https://localhost:8080/",
          "height": 1000
        },
        "id": "U3IXC-R5TAEK",
        "outputId": "569c6845-7421-4eb3-dba9-abca9cbe7aab"
      },
      "source": [
        "plot_model(model, to_file='model.png', show_shapes=True)"
      ],
      "execution_count": 73,
      "outputs": [
        {
          "output_type": "execute_result",
          "data": {
            "image/png": "[encoded data removed]",
            "text/plain": [
              "<IPython.core.display.Image object>"
            ]
          },
          "metadata": {},
          "execution_count": 73
        }
      ]
    },
    {
      "cell_type": "code",
      "metadata": {
        "id": "OLc3cShDUWU8"
      },
      "source": [
        "class_names = ['fake', 'real']"
      ],
      "execution_count": 74,
      "outputs": []
    },
    {
      "cell_type": "code",
      "metadata": {
        "id": "HJ7JnSDBUWR1"
      },
      "source": [
        "fake_image = os.listdir('/content/casia-dataset/CASIA2/Tp/')\n",
        "correct = 0\n",
        "total = 0\n",
        "for file_name in fake_image:\n",
        "    if file_name.endswith('jpg') or filename.endswith('png'):\n",
        "        fake_image_path = os.path.join('/content/casia-dataset/CASIA2/Tp/', file_name)\n",
        "        image = prepare_image(fake_image_path)\n",
        "        image = image.reshape(-1, 128, 128, 3)\n",
        "        y_pred = model.predict(image)\n",
        "        y_pred_class = np.argmax(y_pred, axis = 1)[0]\n",
        "        total += 1\n",
        "        if y_pred_class == 0:\n",
        "            correct += 1"
      ],
      "execution_count": 75,
      "outputs": []
    },
    {
      "cell_type": "code",
      "metadata": {
        "colab": {
          "base_uri": "https://localhost:8080/"
        },
        "id": "9f1z4qqUINQm",
        "outputId": "d66a5b12-39de-41ac-9d22-552636282141"
      },
      "source": [
        "print(f'Total: {total}, Correct: {correct}, Acc: {correct / total * 100.0}')"
      ],
      "execution_count": 76,
      "outputs": [
        {
          "output_type": "stream",
          "name": "stdout",
          "text": [
            "Total: 2064, Correct: 2020, Acc: 97.86821705426357\n"
          ]
        }
      ]
    },
    {
      "cell_type": "code",
      "metadata": {
        "colab": {
          "base_uri": "https://localhost:8080/"
        },
        "id": "lSToo4yjINMP",
        "outputId": "d07ae19b-7c8a-40d8-ffe2-fc2c7678b559"
      },
      "source": [
        "real_image = os.listdir('/content/casia-dataset/CASIA2/Au/')\n",
        "correct_r = 0\n",
        "total_r = 0\n",
        "for file_name in real_image:\n",
        "    if file_name.endswith('jpg') or filename.endswith('png'):\n",
        "        real_image_path = os.path.join('/content/casia-dataset/CASIA2/Au/', file_name)\n",
        "        image = prepare_image(real_image_path)\n",
        "        image = image.reshape(-1, 128, 128, 3)\n",
        "        y_pred = model.predict(image)\n",
        "        y_pred_class = np.argmax(y_pred, axis = 1)[0]\n",
        "        total_r += 1\n",
        "        if y_pred_class == 1:\n",
        "            correct_r += 1"
      ],
      "execution_count": 77,
      "outputs": [
        {
          "output_type": "stream",
          "name": "stderr",
          "text": [
            "/usr/local/lib/python3.7/dist-packages/PIL/TiffImagePlugin.py:770: UserWarning: Possibly corrupt EXIF data.  Expecting to read 8 bytes but only got 2. Skipping tag 41487\n",
            "  \" Skipping tag %s\" % (size, len(data), tag)\n",
            "/usr/local/lib/python3.7/dist-packages/PIL/TiffImagePlugin.py:770: UserWarning: Possibly corrupt EXIF data.  Expecting to read 8 bytes but only got 0. Skipping tag 41988\n",
            "  \" Skipping tag %s\" % (size, len(data), tag)\n"
          ]
        }
      ]
    },
    {
      "cell_type": "code",
      "metadata": {
        "colab": {
          "base_uri": "https://localhost:8080/"
        },
        "id": "iMTKgmj_IPnk",
        "outputId": "4e51316b-a2a1-401f-8dab-4fa9627f6d77"
      },
      "source": [
        "correct += correct_r\n",
        "total += total_r\n",
        "print(f'Total: {total_r}, Correct: {correct_r}, Acc: {correct_r / total_r * 100.0}')\n",
        "print(f'Total: {total}, Correct: {correct}, Acc: {correct / total * 100.0}')"
      ],
      "execution_count": 78,
      "outputs": [
        {
          "output_type": "stream",
          "name": "stdout",
          "text": [
            "Total: 7354, Correct: 6810, Acc: 92.60266521620886\n",
            "Total: 9418, Correct: 8830, Acc: 93.75663622849862\n"
          ]
        }
      ]
    }
  ]
}