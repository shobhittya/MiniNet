{
  "nbformat": 4,
  "nbformat_minor": 0,
  "metadata": {
    "colab": {
      "name": "ViT_CASIA1.ipynb",
      "provenance": [],
      "collapsed_sections": [],
      "authorship_tag": "ABX9TyNfVYnO7dKoPH3MBbNsZ3ws",
      "include_colab_link": true
    },
    "kernelspec": {
      "name": "python3",
      "display_name": "Python 3"
    },
    "language_info": {
      "name": "python"
    },
    "accelerator": "GPU"
  },
  "cells": [
    {
      "cell_type": "markdown",
      "metadata": {
        "id": "view-in-github",
        "colab_type": "text"
      },
      "source": [
        "<a href=\"https://colab.research.google.com/github/shobhittya/deeplearning/blob/main/ViT_CASIA1.ipynb\" target=\"_parent\"><img src=\"https://colab.research.google.com/assets/colab-badge.svg\" alt=\"Open In Colab\"/></a>"
      ]
    },
    {
      "cell_type": "code",
      "metadata": {
        "colab": {
          "base_uri": "https://localhost:8080/"
        },
        "id": "VC_UileKzSZf",
        "outputId": "b59850e0-8bcf-4796-bc00-762af10433d1"
      },
      "source": [
        "pip install -U tensorflow-addons"
      ],
      "execution_count": null,
      "outputs": [
        {
          "output_type": "stream",
          "name": "stdout",
          "text": [
            "Collecting tensorflow-addons\n",
            "  Downloading tensorflow_addons-0.14.0-cp37-cp37m-manylinux_2_12_x86_64.manylinux2010_x86_64.whl (1.1 MB)\n",
            "\u001b[?25l\r\u001b[K     |▎                               | 10 kB 34.2 MB/s eta 0:00:01\r\u001b[K     |▋                               | 20 kB 36.8 MB/s eta 0:00:01\r\u001b[K     |▉                               | 30 kB 41.1 MB/s eta 0:00:01\r\u001b[K     |█▏                              | 40 kB 26.8 MB/s eta 0:00:01\r\u001b[K     |█▌                              | 51 kB 17.2 MB/s eta 0:00:01\r\u001b[K     |█▊                              | 61 kB 14.5 MB/s eta 0:00:01\r\u001b[K     |██                              | 71 kB 13.7 MB/s eta 0:00:01\r\u001b[K     |██▍                             | 81 kB 15.2 MB/s eta 0:00:01\r\u001b[K     |██▋                             | 92 kB 16.6 MB/s eta 0:00:01\r\u001b[K     |███                             | 102 kB 15.0 MB/s eta 0:00:01\r\u001b[K     |███▎                            | 112 kB 15.0 MB/s eta 0:00:01\r\u001b[K     |███▌                            | 122 kB 15.0 MB/s eta 0:00:01\r\u001b[K     |███▉                            | 133 kB 15.0 MB/s eta 0:00:01\r\u001b[K     |████▏                           | 143 kB 15.0 MB/s eta 0:00:01\r\u001b[K     |████▍                           | 153 kB 15.0 MB/s eta 0:00:01\r\u001b[K     |████▊                           | 163 kB 15.0 MB/s eta 0:00:01\r\u001b[K     |█████                           | 174 kB 15.0 MB/s eta 0:00:01\r\u001b[K     |█████▎                          | 184 kB 15.0 MB/s eta 0:00:01\r\u001b[K     |█████▋                          | 194 kB 15.0 MB/s eta 0:00:01\r\u001b[K     |██████                          | 204 kB 15.0 MB/s eta 0:00:01\r\u001b[K     |██████▏                         | 215 kB 15.0 MB/s eta 0:00:01\r\u001b[K     |██████▌                         | 225 kB 15.0 MB/s eta 0:00:01\r\u001b[K     |██████▉                         | 235 kB 15.0 MB/s eta 0:00:01\r\u001b[K     |███████                         | 245 kB 15.0 MB/s eta 0:00:01\r\u001b[K     |███████▍                        | 256 kB 15.0 MB/s eta 0:00:01\r\u001b[K     |███████▊                        | 266 kB 15.0 MB/s eta 0:00:01\r\u001b[K     |████████                        | 276 kB 15.0 MB/s eta 0:00:01\r\u001b[K     |████████▎                       | 286 kB 15.0 MB/s eta 0:00:01\r\u001b[K     |████████▋                       | 296 kB 15.0 MB/s eta 0:00:01\r\u001b[K     |████████▉                       | 307 kB 15.0 MB/s eta 0:00:01\r\u001b[K     |█████████▏                      | 317 kB 15.0 MB/s eta 0:00:01\r\u001b[K     |█████████▌                      | 327 kB 15.0 MB/s eta 0:00:01\r\u001b[K     |█████████▊                      | 337 kB 15.0 MB/s eta 0:00:01\r\u001b[K     |██████████                      | 348 kB 15.0 MB/s eta 0:00:01\r\u001b[K     |██████████▍                     | 358 kB 15.0 MB/s eta 0:00:01\r\u001b[K     |██████████▋                     | 368 kB 15.0 MB/s eta 0:00:01\r\u001b[K     |███████████                     | 378 kB 15.0 MB/s eta 0:00:01\r\u001b[K     |███████████▎                    | 389 kB 15.0 MB/s eta 0:00:01\r\u001b[K     |███████████▌                    | 399 kB 15.0 MB/s eta 0:00:01\r\u001b[K     |███████████▉                    | 409 kB 15.0 MB/s eta 0:00:01\r\u001b[K     |████████████▏                   | 419 kB 15.0 MB/s eta 0:00:01\r\u001b[K     |████████████▍                   | 430 kB 15.0 MB/s eta 0:00:01\r\u001b[K     |████████████▊                   | 440 kB 15.0 MB/s eta 0:00:01\r\u001b[K     |█████████████                   | 450 kB 15.0 MB/s eta 0:00:01\r\u001b[K     |█████████████▎                  | 460 kB 15.0 MB/s eta 0:00:01\r\u001b[K     |█████████████▋                  | 471 kB 15.0 MB/s eta 0:00:01\r\u001b[K     |██████████████                  | 481 kB 15.0 MB/s eta 0:00:01\r\u001b[K     |██████████████▏                 | 491 kB 15.0 MB/s eta 0:00:01\r\u001b[K     |██████████████▌                 | 501 kB 15.0 MB/s eta 0:00:01\r\u001b[K     |██████████████▉                 | 512 kB 15.0 MB/s eta 0:00:01\r\u001b[K     |███████████████                 | 522 kB 15.0 MB/s eta 0:00:01\r\u001b[K     |███████████████▍                | 532 kB 15.0 MB/s eta 0:00:01\r\u001b[K     |███████████████▊                | 542 kB 15.0 MB/s eta 0:00:01\r\u001b[K     |████████████████                | 552 kB 15.0 MB/s eta 0:00:01\r\u001b[K     |████████████████▎               | 563 kB 15.0 MB/s eta 0:00:01\r\u001b[K     |████████████████▋               | 573 kB 15.0 MB/s eta 0:00:01\r\u001b[K     |████████████████▉               | 583 kB 15.0 MB/s eta 0:00:01\r\u001b[K     |█████████████████▏              | 593 kB 15.0 MB/s eta 0:00:01\r\u001b[K     |█████████████████▌              | 604 kB 15.0 MB/s eta 0:00:01\r\u001b[K     |█████████████████▊              | 614 kB 15.0 MB/s eta 0:00:01\r\u001b[K     |██████████████████              | 624 kB 15.0 MB/s eta 0:00:01\r\u001b[K     |██████████████████▍             | 634 kB 15.0 MB/s eta 0:00:01\r\u001b[K     |██████████████████▋             | 645 kB 15.0 MB/s eta 0:00:01\r\u001b[K     |███████████████████             | 655 kB 15.0 MB/s eta 0:00:01\r\u001b[K     |███████████████████▎            | 665 kB 15.0 MB/s eta 0:00:01\r\u001b[K     |███████████████████▌            | 675 kB 15.0 MB/s eta 0:00:01\r\u001b[K     |███████████████████▉            | 686 kB 15.0 MB/s eta 0:00:01\r\u001b[K     |████████████████████▏           | 696 kB 15.0 MB/s eta 0:00:01\r\u001b[K     |████████████████████▍           | 706 kB 15.0 MB/s eta 0:00:01\r\u001b[K     |████████████████████▊           | 716 kB 15.0 MB/s eta 0:00:01\r\u001b[K     |█████████████████████           | 727 kB 15.0 MB/s eta 0:00:01\r\u001b[K     |█████████████████████▎          | 737 kB 15.0 MB/s eta 0:00:01\r\u001b[K     |█████████████████████▋          | 747 kB 15.0 MB/s eta 0:00:01\r\u001b[K     |██████████████████████          | 757 kB 15.0 MB/s eta 0:00:01\r\u001b[K     |██████████████████████▏         | 768 kB 15.0 MB/s eta 0:00:01\r\u001b[K     |██████████████████████▌         | 778 kB 15.0 MB/s eta 0:00:01\r\u001b[K     |██████████████████████▉         | 788 kB 15.0 MB/s eta 0:00:01\r\u001b[K     |███████████████████████         | 798 kB 15.0 MB/s eta 0:00:01\r\u001b[K     |███████████████████████▍        | 808 kB 15.0 MB/s eta 0:00:01\r\u001b[K     |███████████████████████▊        | 819 kB 15.0 MB/s eta 0:00:01\r\u001b[K     |████████████████████████        | 829 kB 15.0 MB/s eta 0:00:01\r\u001b[K     |████████████████████████▎       | 839 kB 15.0 MB/s eta 0:00:01\r\u001b[K     |████████████████████████▋       | 849 kB 15.0 MB/s eta 0:00:01\r\u001b[K     |████████████████████████▉       | 860 kB 15.0 MB/s eta 0:00:01\r\u001b[K     |█████████████████████████▏      | 870 kB 15.0 MB/s eta 0:00:01\r\u001b[K     |█████████████████████████▍      | 880 kB 15.0 MB/s eta 0:00:01\r\u001b[K     |█████████████████████████▊      | 890 kB 15.0 MB/s eta 0:00:01\r\u001b[K     |██████████████████████████      | 901 kB 15.0 MB/s eta 0:00:01\r\u001b[K     |██████████████████████████▎     | 911 kB 15.0 MB/s eta 0:00:01\r\u001b[K     |██████████████████████████▋     | 921 kB 15.0 MB/s eta 0:00:01\r\u001b[K     |███████████████████████████     | 931 kB 15.0 MB/s eta 0:00:01\r\u001b[K     |███████████████████████████▏    | 942 kB 15.0 MB/s eta 0:00:01\r\u001b[K     |███████████████████████████▌    | 952 kB 15.0 MB/s eta 0:00:01\r\u001b[K     |███████████████████████████▉    | 962 kB 15.0 MB/s eta 0:00:01\r\u001b[K     |████████████████████████████    | 972 kB 15.0 MB/s eta 0:00:01\r\u001b[K     |████████████████████████████▍   | 983 kB 15.0 MB/s eta 0:00:01\r\u001b[K     |████████████████████████████▊   | 993 kB 15.0 MB/s eta 0:00:01\r\u001b[K     |█████████████████████████████   | 1.0 MB 15.0 MB/s eta 0:00:01\r\u001b[K     |█████████████████████████████▎  | 1.0 MB 15.0 MB/s eta 0:00:01\r\u001b[K     |█████████████████████████████▋  | 1.0 MB 15.0 MB/s eta 0:00:01\r\u001b[K     |█████████████████████████████▉  | 1.0 MB 15.0 MB/s eta 0:00:01\r\u001b[K     |██████████████████████████████▏ | 1.0 MB 15.0 MB/s eta 0:00:01\r\u001b[K     |██████████████████████████████▌ | 1.1 MB 15.0 MB/s eta 0:00:01\r\u001b[K     |██████████████████████████████▊ | 1.1 MB 15.0 MB/s eta 0:00:01\r\u001b[K     |███████████████████████████████ | 1.1 MB 15.0 MB/s eta 0:00:01\r\u001b[K     |███████████████████████████████▍| 1.1 MB 15.0 MB/s eta 0:00:01\r\u001b[K     |███████████████████████████████▋| 1.1 MB 15.0 MB/s eta 0:00:01\r\u001b[K     |████████████████████████████████| 1.1 MB 15.0 MB/s eta 0:00:01\r\u001b[K     |████████████████████████████████| 1.1 MB 15.0 MB/s \n",
            "\u001b[?25hRequirement already satisfied: typeguard>=2.7 in /usr/local/lib/python3.7/dist-packages (from tensorflow-addons) (2.7.1)\n",
            "Installing collected packages: tensorflow-addons\n",
            "Successfully installed tensorflow-addons-0.14.0\n"
          ]
        }
      ]
    },
    {
      "cell_type": "code",
      "metadata": {
        "id": "dAcVvz-MynhQ"
      },
      "source": [
        "import numpy as np\n",
        "import matplotlib.pyplot as plt\n",
        "from tensorflow.keras.layers import Input, Dense, Flatten, Conv2D, MaxPooling2D, BatchNormalization, Dropout, Reshape, Concatenate, LeakyReLU\n",
        "from tensorflow.keras.preprocessing.image import ImageDataGenerator\n",
        "from tensorflow.keras.optimizers import Adam\n",
        "from tensorflow.keras.models import Model\n",
        "\n",
        "import numpy as np\n",
        "import tensorflow as tf\n",
        "from tensorflow import keras\n",
        "from tensorflow.keras import layers\n",
        "import tensorflow_addons as tfa\n",
        "\n",
        "#import necessary libraries\n",
        "import numpy as np\n",
        "import matplotlib.pyplot as plt\n",
        "%matplotlib inline\n",
        "np.random.seed(2)\n",
        "from sklearn.model_selection import train_test_split\n",
        "from sklearn.metrics import confusion_matrix\n",
        "from keras.utils.np_utils import to_categorical\n",
        "from keras.models import Sequential\n",
        "from keras.layers import Dense, Flatten, Conv2D, MaxPool2D, Dropout\n",
        "from tensorflow.keras.optimizers import Adam\n",
        "from keras.preprocessing.image import ImageDataGenerator\n",
        "from keras.callbacks import EarlyStopping"
      ],
      "execution_count": null,
      "outputs": []
    },
    {
      "cell_type": "markdown",
      "metadata": {
        "id": "7VT6popDzsSF"
      },
      "source": [
        "**Prepare The Data**"
      ]
    },
    {
      "cell_type": "code",
      "metadata": {
        "id": "j2ddME14zdeg"
      },
      "source": [
        "!pip install opendatasets --upgrade --quiet"
      ],
      "execution_count": null,
      "outputs": []
    },
    {
      "cell_type": "code",
      "metadata": {
        "id": "ghdT2iN_zeTV"
      },
      "source": [
        "import opendatasets as od"
      ],
      "execution_count": null,
      "outputs": []
    },
    {
      "cell_type": "code",
      "metadata": {
        "id": "z6Gy_sRJzeQb"
      },
      "source": [
        "dataset_url = \"https://www.kaggle.com/sophatvathana/casia-dataset\""
      ],
      "execution_count": null,
      "outputs": []
    },
    {
      "cell_type": "code",
      "metadata": {
        "colab": {
          "base_uri": "https://localhost:8080/"
        },
        "id": "B0tj90bIzjLh",
        "outputId": "b3456361-0f6c-4cf0-e0c6-ea950a2e21ff"
      },
      "source": [
        "od.download(dataset_url)"
      ],
      "execution_count": null,
      "outputs": [
        {
          "output_type": "stream",
          "name": "stdout",
          "text": [
            "Please provide your Kaggle credentials to download this dataset. Learn more: http://bit.ly/kaggle-creds\n",
            "Your Kaggle username: shobhittyagi\n",
            "Your Kaggle Key: ··········\n",
            "Downloading casia-dataset.zip to ./casia-dataset\n"
          ]
        },
        {
          "output_type": "stream",
          "name": "stderr",
          "text": [
            "100%|██████████| 5.22G/5.22G [01:23<00:00, 67.4MB/s]\n"
          ]
        },
        {
          "output_type": "stream",
          "name": "stdout",
          "text": [
            "\n"
          ]
        }
      ]
    },
    {
      "cell_type": "code",
      "metadata": {
        "id": "CJFMhLs5zkBp"
      },
      "source": [
        "import numpy as np \n",
        "import pandas as pd \n",
        "import matplotlib.pyplot as plt2\n",
        "import os\n",
        "import tensorflow as tf\n",
        "from keras.preprocessing.image import ImageDataGenerator, load_img\n",
        "from keras.layers import (Conv2D, BatchNormalization, Activation, MaxPooling2D, GlobalAveragePooling2D, Dense, Flatten, Dropout)\n",
        "from tensorflow.keras.optimizers import RMSprop, Adam, SGD\n",
        "from keras import regularizers\n",
        "from keras.callbacks import CSVLogger, ModelCheckpoint, ReduceLROnPlateau"
      ],
      "execution_count": 271,
      "outputs": []
    },
    {
      "cell_type": "code",
      "metadata": {
        "id": "C_8r025Mzj_Q"
      },
      "source": [
        "from PIL import Image, ImageChops, ImageEnhance\n",
        "import os\n",
        "import itertools"
      ],
      "execution_count": 272,
      "outputs": []
    },
    {
      "cell_type": "code",
      "metadata": {
        "id": "EhhejRpeWxsE"
      },
      "source": [
        "def convert_to_ela_image(path, quality):\n",
        "    temp_filename = 'temp_file_name.jpg'\n",
        "    ela_filename = 'temp_ela.png'\n",
        "    \n",
        "    image = Image.open(path).convert('RGB')\n",
        "    image.save(temp_filename, 'JPEG', quality = quality)\n",
        "    temp_image = Image.open(temp_filename)\n",
        "    \n",
        "    ela_image = ImageChops.difference(image, temp_image)\n",
        "    \n",
        "    extrema = ela_image.getextrema()\n",
        "    max_diff = max([ex[1] for ex in extrema])\n",
        "    if max_diff == 0:\n",
        "        max_diff = 1\n",
        "    scale = 255.0 / max_diff\n",
        "    \n",
        "    ela_image = ImageEnhance.Brightness(ela_image).enhance(scale)\n",
        "    \n",
        "    return ela_image"
      ],
      "execution_count": 273,
      "outputs": []
    },
    {
      "cell_type": "code",
      "metadata": {
        "id": "uNKu5W_7WxpQ"
      },
      "source": [
        "image_size = (128, 128)"
      ],
      "execution_count": 274,
      "outputs": []
    },
    {
      "cell_type": "code",
      "metadata": {
        "id": "60tOoNssWxmm"
      },
      "source": [
        "\n",
        "def prepare_image(image_path):\n",
        "    return np.array(convert_to_ela_image(image_path, 90).resize(image_size)).flatten() / 255.0"
      ],
      "execution_count": 275,
      "outputs": []
    },
    {
      "cell_type": "code",
      "metadata": {
        "id": "TlAE-7-mWxjr"
      },
      "source": [
        "X = [] # ELA converted images\n",
        "Y = [] # 0 for fake, 1 for real"
      ],
      "execution_count": 276,
      "outputs": []
    },
    {
      "cell_type": "code",
      "metadata": {
        "colab": {
          "base_uri": "https://localhost:8080/"
        },
        "id": "mzZ5ONDkXJ74",
        "outputId": "ca80f591-6806-44db-fd19-8e02d8099ae1"
      },
      "source": [
        "\n",
        "import random\n",
        "path = '/content/casia-dataset/CASIA1/Au/'\n",
        "for dirname, _, filenames in os.walk(path):\n",
        "    for filename in filenames:\n",
        "        if filename.endswith('jpg') or filename.endswith('png'):\n",
        "            full_path = os.path.join(dirname, filename)\n",
        "            X.append(prepare_image(full_path))\n",
        "            Y.append(1)\n",
        "            if len(Y) % 500 == 0:\n",
        "                print(f'Processing {len(Y)} images')\n",
        "\n",
        "random.shuffle(X)\n",
        "X = X[:2100]\n",
        "Y = Y[:2100]\n",
        "print(len(X), len(Y))"
      ],
      "execution_count": 277,
      "outputs": [
        {
          "output_type": "stream",
          "name": "stdout",
          "text": [
            "Processing 500 images\n",
            "790 790\n"
          ]
        }
      ]
    },
    {
      "cell_type": "code",
      "metadata": {
        "colab": {
          "base_uri": "https://localhost:8080/"
        },
        "id": "quS-8mtfXJ5U",
        "outputId": "336b399a-1682-44fa-c325-b42b71b1ce31"
      },
      "source": [
        "path = '/content/casia-dataset/CASIA1/Sp/'\n",
        "for dirname, _, filenames in os.walk(path):\n",
        "    for filename in filenames:\n",
        "        if filename.endswith('jpg') or filename.endswith('png'):\n",
        "            full_path = os.path.join(dirname, filename)\n",
        "            X.append(prepare_image(full_path))\n",
        "            Y.append(0)\n",
        "            if len(Y) % 500 == 0:\n",
        "                print(f'Processing {len(Y)} images')\n",
        "\n",
        "print(len(X), len(Y))"
      ],
      "execution_count": 278,
      "outputs": [
        {
          "output_type": "stream",
          "name": "stdout",
          "text": [
            "Processing 1000 images\n",
            "Processing 1500 images\n",
            "1711 1711\n"
          ]
        }
      ]
    },
    {
      "cell_type": "code",
      "metadata": {
        "id": "Gzd83rFnXJ20"
      },
      "source": [
        "X = np.array(X)\n",
        "Y = to_categorical(Y, 2)\n",
        "X = X.reshape(-1, 128, 128, 3)"
      ],
      "execution_count": 279,
      "outputs": []
    },
    {
      "cell_type": "code",
      "metadata": {
        "colab": {
          "base_uri": "https://localhost:8080/"
        },
        "id": "1GiBEKTaXJ0W",
        "outputId": "48e7b95b-8e24-44cb-a3e3-30718e0839ff"
      },
      "source": [
        "X_train, X_val, Y_train, Y_val = train_test_split(X, Y, test_size = 0.2, random_state=5)\n",
        "X = X.reshape(-1,1,1,1)\n",
        "print(len(X_train), len(Y_train))\n",
        "print(len(X_val), len(Y_val))"
      ],
      "execution_count": 280,
      "outputs": [
        {
          "output_type": "stream",
          "name": "stdout",
          "text": [
            "1368 1368\n",
            "343 343\n"
          ]
        }
      ]
    },
    {
      "cell_type": "code",
      "metadata": {
        "id": "ZOcfWxGsXJx-"
      },
      "source": [
        "model = tf.keras.models.Sequential(\n",
        "    [\n",
        "     tf.keras.layers.Conv2D(32, (3,3), padding='same', activation='relu', input_shape = (128, 128, 3)),\n",
        "     tf.keras.layers.MaxPooling2D(2,2),\n",
        "\n",
        "     tf.keras.layers.Conv2D(64, (3,3), padding='same', activation='relu'),\n",
        "     tf.keras.layers.MaxPooling2D(2,2),\n",
        "\n",
        "     tf.keras.layers.Conv2D(128, (3,3), padding='same', activation='relu'),\n",
        "     tf.keras.layers.MaxPooling2D(2,2),\n",
        "\n",
        "     tf.keras.layers.Conv2D(256, (3,3), padding='same', activation='relu'),\n",
        "     tf.keras.layers.MaxPooling2D(2,2),\n",
        "\n",
        "     tf.keras.layers.Flatten(),\n",
        "\n",
        "     tf.keras.layers.Dense(512, activation='relu'),\n",
        "     tf.keras.layers.Dropout(0.5),\n",
        "     tf.keras.layers.Dense(2, activation='softmax')\n",
        "     ]\n",
        ")"
      ],
      "execution_count": 281,
      "outputs": []
    },
    {
      "cell_type": "code",
      "metadata": {
        "colab": {
          "base_uri": "https://localhost:8080/"
        },
        "id": "jcu4eFP4XJvF",
        "outputId": "9c4531cb-706b-4358-d2a6-79084ddda48b"
      },
      "source": [
        "model.summary()"
      ],
      "execution_count": 282,
      "outputs": [
        {
          "output_type": "stream",
          "name": "stdout",
          "text": [
            "Model: \"sequential_8\"\n",
            "_________________________________________________________________\n",
            "Layer (type)                 Output Shape              Param #   \n",
            "=================================================================\n",
            "conv2d_12 (Conv2D)           (None, 128, 128, 32)      896       \n",
            "_________________________________________________________________\n",
            "max_pooling2d_12 (MaxPooling (None, 64, 64, 32)        0         \n",
            "_________________________________________________________________\n",
            "conv2d_13 (Conv2D)           (None, 64, 64, 64)        18496     \n",
            "_________________________________________________________________\n",
            "max_pooling2d_13 (MaxPooling (None, 32, 32, 64)        0         \n",
            "_________________________________________________________________\n",
            "conv2d_14 (Conv2D)           (None, 32, 32, 128)       73856     \n",
            "_________________________________________________________________\n",
            "max_pooling2d_14 (MaxPooling (None, 16, 16, 128)       0         \n",
            "_________________________________________________________________\n",
            "conv2d_15 (Conv2D)           (None, 16, 16, 256)       295168    \n",
            "_________________________________________________________________\n",
            "max_pooling2d_15 (MaxPooling (None, 8, 8, 256)         0         \n",
            "_________________________________________________________________\n",
            "flatten_31 (Flatten)         (None, 16384)             0         \n",
            "_________________________________________________________________\n",
            "dense_58 (Dense)             (None, 512)               8389120   \n",
            "_________________________________________________________________\n",
            "dropout_9 (Dropout)          (None, 512)               0         \n",
            "_________________________________________________________________\n",
            "dense_59 (Dense)             (None, 2)                 1026      \n",
            "=================================================================\n",
            "Total params: 8,778,562\n",
            "Trainable params: 8,778,562\n",
            "Non-trainable params: 0\n",
            "_________________________________________________________________\n"
          ]
        }
      ]
    },
    {
      "cell_type": "code",
      "metadata": {
        "id": "bw8Wqd9_XeP3"
      },
      "source": [
        "\n",
        "model.compile(optimizer='adam', loss='binary_crossentropy', metrics = ['accuracy'])"
      ],
      "execution_count": 283,
      "outputs": []
    },
    {
      "cell_type": "code",
      "metadata": {
        "id": "4Gm3QB3jXeNW"
      },
      "source": [
        "epochs = 100\n",
        "batch_size = 16"
      ],
      "execution_count": 284,
      "outputs": []
    },
    {
      "cell_type": "code",
      "metadata": {
        "colab": {
          "base_uri": "https://localhost:8080/"
        },
        "id": "pZUUCL4EXeK2",
        "outputId": "4b161138-a6c9-4a8e-a0e1-9cd943c2b807"
      },
      "source": [
        "\n",
        "init_lr = 1e-3\n",
        "optimizer = Adam(lr = init_lr, decay = init_lr/epochs)"
      ],
      "execution_count": 285,
      "outputs": [
        {
          "output_type": "stream",
          "name": "stderr",
          "text": [
            "/usr/local/lib/python3.7/dist-packages/keras/optimizer_v2/optimizer_v2.py:356: UserWarning: The `lr` argument is deprecated, use `learning_rate` instead.\n",
            "  \"The `lr` argument is deprecated, use `learning_rate` instead.\")\n"
          ]
        }
      ]
    },
    {
      "cell_type": "code",
      "metadata": {
        "id": "Vzjy15wSXeIQ"
      },
      "source": [
        "checkpoint = ModelCheckpoint(filepath='/content/Model_weights/MiniNet.h5',\n",
        "                             save_best_only=True,\n",
        "                             verbose=1,\n",
        "                             mode='min',\n",
        "                             moniter='val_loss'\n",
        "                            )\n",
        "reduce_lr = ReduceLROnPlateau(monitor='val_loss', \n",
        "                              factor=0.15, \n",
        "                              patience=8, \n",
        "                              verbose=1\n",
        "                             )\n",
        "csv_logger = CSVLogger('training.log')\n",
        "early_stopping = EarlyStopping(monitor = 'val_acc',\n",
        "                              min_delta = 0,\n",
        "                              patience =5,\n",
        "                              verbose = 0,\n",
        "                              mode = 'auto')\n",
        "\n",
        "callbacks = [checkpoint, reduce_lr, early_stopping, csv_logger]"
      ],
      "execution_count": 286,
      "outputs": []
    },
    {
      "cell_type": "code",
      "metadata": {
        "colab": {
          "base_uri": "https://localhost:8080/"
        },
        "id": "FRa2oJKtXeBw",
        "outputId": "966f9035-a237-4052-8b9e-c612fcd9692e"
      },
      "source": [
        "hist = model.fit(X_train,\n",
        "                 Y_train,\n",
        "                 batch_size = batch_size,\n",
        "                 epochs = epochs,\n",
        "                validation_data = (X_val, Y_val),\n",
        "                 verbose = 1, \n",
        "                callbacks = callbacks)"
      ],
      "execution_count": 287,
      "outputs": [
        {
          "output_type": "stream",
          "name": "stdout",
          "text": [
            "Epoch 1/100\n",
            "86/86 [==============================] - 2s 15ms/step - loss: 0.6688 - accuracy: 0.5687 - val_loss: 0.6894 - val_accuracy: 0.5656\n",
            "\n",
            "Epoch 00001: val_loss improved from inf to 0.68939, saving model to /content/Model_weights/MiniNet.h5\n",
            "WARNING:tensorflow:Early stopping conditioned on metric `val_acc` which is not available. Available metrics are: loss,accuracy,val_loss,val_accuracy,lr\n",
            "Epoch 2/100\n",
            "86/86 [==============================] - 1s 10ms/step - loss: 0.6851 - accuracy: 0.5453 - val_loss: 0.6393 - val_accuracy: 0.6676\n",
            "\n",
            "Epoch 00002: val_loss improved from 0.68939 to 0.63928, saving model to /content/Model_weights/MiniNet.h5\n",
            "WARNING:tensorflow:Early stopping conditioned on metric `val_acc` which is not available. Available metrics are: loss,accuracy,val_loss,val_accuracy,lr\n",
            "Epoch 3/100\n",
            "86/86 [==============================] - 1s 11ms/step - loss: 0.6065 - accuracy: 0.6784 - val_loss: 0.5877 - val_accuracy: 0.6939\n",
            "\n",
            "Epoch 00003: val_loss improved from 0.63928 to 0.58774, saving model to /content/Model_weights/MiniNet.h5\n",
            "WARNING:tensorflow:Early stopping conditioned on metric `val_acc` which is not available. Available metrics are: loss,accuracy,val_loss,val_accuracy,lr\n",
            "Epoch 4/100\n",
            "86/86 [==============================] - 1s 10ms/step - loss: 0.5953 - accuracy: 0.6923 - val_loss: 0.5724 - val_accuracy: 0.7085\n",
            "\n",
            "Epoch 00004: val_loss improved from 0.58774 to 0.57237, saving model to /content/Model_weights/MiniNet.h5\n",
            "WARNING:tensorflow:Early stopping conditioned on metric `val_acc` which is not available. Available metrics are: loss,accuracy,val_loss,val_accuracy,lr\n",
            "Epoch 5/100\n",
            "86/86 [==============================] - 1s 11ms/step - loss: 0.5770 - accuracy: 0.7061 - val_loss: 0.5584 - val_accuracy: 0.7259\n",
            "\n",
            "Epoch 00005: val_loss improved from 0.57237 to 0.55844, saving model to /content/Model_weights/MiniNet.h5\n",
            "WARNING:tensorflow:Early stopping conditioned on metric `val_acc` which is not available. Available metrics are: loss,accuracy,val_loss,val_accuracy,lr\n",
            "Epoch 6/100\n",
            "86/86 [==============================] - 1s 11ms/step - loss: 0.6072 - accuracy: 0.6652 - val_loss: 0.6828 - val_accuracy: 0.5656\n",
            "\n",
            "Epoch 00006: val_loss did not improve from 0.55844\n",
            "WARNING:tensorflow:Early stopping conditioned on metric `val_acc` which is not available. Available metrics are: loss,accuracy,val_loss,val_accuracy,lr\n",
            "Epoch 7/100\n",
            "86/86 [==============================] - 1s 10ms/step - loss: 0.6770 - accuracy: 0.5607 - val_loss: 0.6192 - val_accuracy: 0.6531\n",
            "\n",
            "Epoch 00007: val_loss did not improve from 0.55844\n",
            "WARNING:tensorflow:Early stopping conditioned on metric `val_acc` which is not available. Available metrics are: loss,accuracy,val_loss,val_accuracy,lr\n",
            "Epoch 8/100\n",
            "86/86 [==============================] - 1s 11ms/step - loss: 0.6390 - accuracy: 0.6257 - val_loss: 0.5814 - val_accuracy: 0.6822\n",
            "\n",
            "Epoch 00008: val_loss did not improve from 0.55844\n",
            "WARNING:tensorflow:Early stopping conditioned on metric `val_acc` which is not available. Available metrics are: loss,accuracy,val_loss,val_accuracy,lr\n",
            "Epoch 9/100\n",
            "86/86 [==============================] - 1s 11ms/step - loss: 0.5821 - accuracy: 0.6842 - val_loss: 0.5623 - val_accuracy: 0.7434\n",
            "\n",
            "Epoch 00009: val_loss did not improve from 0.55844\n",
            "WARNING:tensorflow:Early stopping conditioned on metric `val_acc` which is not available. Available metrics are: loss,accuracy,val_loss,val_accuracy,lr\n",
            "Epoch 10/100\n",
            "86/86 [==============================] - 1s 10ms/step - loss: 0.5864 - accuracy: 0.6791 - val_loss: 0.5824 - val_accuracy: 0.6851\n",
            "\n",
            "Epoch 00010: val_loss did not improve from 0.55844\n",
            "WARNING:tensorflow:Early stopping conditioned on metric `val_acc` which is not available. Available metrics are: loss,accuracy,val_loss,val_accuracy,lr\n",
            "Epoch 11/100\n",
            "86/86 [==============================] - 1s 10ms/step - loss: 0.6108 - accuracy: 0.6513 - val_loss: 0.5633 - val_accuracy: 0.7055\n",
            "\n",
            "Epoch 00011: val_loss did not improve from 0.55844\n",
            "WARNING:tensorflow:Early stopping conditioned on metric `val_acc` which is not available. Available metrics are: loss,accuracy,val_loss,val_accuracy,lr\n",
            "Epoch 12/100\n",
            "86/86 [==============================] - 1s 10ms/step - loss: 0.5571 - accuracy: 0.7003 - val_loss: 0.5388 - val_accuracy: 0.7347\n",
            "\n",
            "Epoch 00012: val_loss improved from 0.55844 to 0.53879, saving model to /content/Model_weights/MiniNet.h5\n",
            "WARNING:tensorflow:Early stopping conditioned on metric `val_acc` which is not available. Available metrics are: loss,accuracy,val_loss,val_accuracy,lr\n",
            "Epoch 13/100\n",
            "86/86 [==============================] - 1s 11ms/step - loss: 0.5657 - accuracy: 0.6879 - val_loss: 0.5615 - val_accuracy: 0.6968\n",
            "\n",
            "Epoch 00013: val_loss did not improve from 0.53879\n",
            "WARNING:tensorflow:Early stopping conditioned on metric `val_acc` which is not available. Available metrics are: loss,accuracy,val_loss,val_accuracy,lr\n",
            "Epoch 14/100\n",
            "86/86 [==============================] - 1s 10ms/step - loss: 0.5422 - accuracy: 0.7135 - val_loss: 0.5261 - val_accuracy: 0.7347\n",
            "\n",
            "Epoch 00014: val_loss improved from 0.53879 to 0.52608, saving model to /content/Model_weights/MiniNet.h5\n",
            "WARNING:tensorflow:Early stopping conditioned on metric `val_acc` which is not available. Available metrics are: loss,accuracy,val_loss,val_accuracy,lr\n",
            "Epoch 15/100\n",
            "86/86 [==============================] - 1s 11ms/step - loss: 0.5465 - accuracy: 0.7113 - val_loss: 0.5647 - val_accuracy: 0.7726\n",
            "\n",
            "Epoch 00015: val_loss did not improve from 0.52608\n",
            "WARNING:tensorflow:Early stopping conditioned on metric `val_acc` which is not available. Available metrics are: loss,accuracy,val_loss,val_accuracy,lr\n",
            "Epoch 16/100\n",
            "86/86 [==============================] - 1s 10ms/step - loss: 0.5015 - accuracy: 0.7368 - val_loss: 0.5473 - val_accuracy: 0.7318\n",
            "\n",
            "Epoch 00016: val_loss did not improve from 0.52608\n",
            "WARNING:tensorflow:Early stopping conditioned on metric `val_acc` which is not available. Available metrics are: loss,accuracy,val_loss,val_accuracy,lr\n",
            "Epoch 17/100\n",
            "86/86 [==============================] - 1s 10ms/step - loss: 0.4830 - accuracy: 0.7522 - val_loss: 0.5461 - val_accuracy: 0.7784\n",
            "\n",
            "Epoch 00017: val_loss did not improve from 0.52608\n",
            "WARNING:tensorflow:Early stopping conditioned on metric `val_acc` which is not available. Available metrics are: loss,accuracy,val_loss,val_accuracy,lr\n",
            "Epoch 18/100\n",
            "86/86 [==============================] - 1s 11ms/step - loss: 0.4846 - accuracy: 0.7522 - val_loss: 0.4977 - val_accuracy: 0.7609\n",
            "\n",
            "Epoch 00018: val_loss improved from 0.52608 to 0.49769, saving model to /content/Model_weights/MiniNet.h5\n",
            "WARNING:tensorflow:Early stopping conditioned on metric `val_acc` which is not available. Available metrics are: loss,accuracy,val_loss,val_accuracy,lr\n",
            "Epoch 19/100\n",
            "86/86 [==============================] - 1s 11ms/step - loss: 0.4506 - accuracy: 0.7829 - val_loss: 0.5174 - val_accuracy: 0.8047\n",
            "\n",
            "Epoch 00019: val_loss did not improve from 0.49769\n",
            "WARNING:tensorflow:Early stopping conditioned on metric `val_acc` which is not available. Available metrics are: loss,accuracy,val_loss,val_accuracy,lr\n",
            "Epoch 20/100\n",
            "86/86 [==============================] - 1s 11ms/step - loss: 0.4328 - accuracy: 0.7807 - val_loss: 0.6303 - val_accuracy: 0.6880\n",
            "\n",
            "Epoch 00020: val_loss did not improve from 0.49769\n",
            "WARNING:tensorflow:Early stopping conditioned on metric `val_acc` which is not available. Available metrics are: loss,accuracy,val_loss,val_accuracy,lr\n",
            "Epoch 21/100\n",
            "86/86 [==============================] - 1s 11ms/step - loss: 0.6326 - accuracy: 0.6221 - val_loss: 0.6122 - val_accuracy: 0.6589\n",
            "\n",
            "Epoch 00021: val_loss did not improve from 0.49769\n",
            "WARNING:tensorflow:Early stopping conditioned on metric `val_acc` which is not available. Available metrics are: loss,accuracy,val_loss,val_accuracy,lr\n",
            "Epoch 22/100\n",
            "86/86 [==============================] - 1s 11ms/step - loss: 0.5662 - accuracy: 0.6835 - val_loss: 0.5426 - val_accuracy: 0.7347\n",
            "\n",
            "Epoch 00022: val_loss did not improve from 0.49769\n",
            "WARNING:tensorflow:Early stopping conditioned on metric `val_acc` which is not available. Available metrics are: loss,accuracy,val_loss,val_accuracy,lr\n",
            "Epoch 23/100\n",
            "86/86 [==============================] - 1s 10ms/step - loss: 0.4824 - accuracy: 0.7427 - val_loss: 1.1937 - val_accuracy: 0.6968\n",
            "\n",
            "Epoch 00023: val_loss did not improve from 0.49769\n",
            "WARNING:tensorflow:Early stopping conditioned on metric `val_acc` which is not available. Available metrics are: loss,accuracy,val_loss,val_accuracy,lr\n",
            "Epoch 24/100\n",
            "86/86 [==============================] - 1s 10ms/step - loss: 0.5786 - accuracy: 0.7091 - val_loss: 0.4876 - val_accuracy: 0.7668\n",
            "\n",
            "Epoch 00024: val_loss improved from 0.49769 to 0.48760, saving model to /content/Model_weights/MiniNet.h5\n",
            "WARNING:tensorflow:Early stopping conditioned on metric `val_acc` which is not available. Available metrics are: loss,accuracy,val_loss,val_accuracy,lr\n",
            "Epoch 25/100\n",
            "86/86 [==============================] - 1s 11ms/step - loss: 0.4607 - accuracy: 0.7683 - val_loss: 0.4438 - val_accuracy: 0.8076\n",
            "\n",
            "Epoch 00025: val_loss improved from 0.48760 to 0.44381, saving model to /content/Model_weights/MiniNet.h5\n",
            "WARNING:tensorflow:Early stopping conditioned on metric `val_acc` which is not available. Available metrics are: loss,accuracy,val_loss,val_accuracy,lr\n",
            "Epoch 26/100\n",
            "86/86 [==============================] - 1s 11ms/step - loss: 0.4233 - accuracy: 0.7858 - val_loss: 0.4155 - val_accuracy: 0.8280\n",
            "\n",
            "Epoch 00026: val_loss improved from 0.44381 to 0.41552, saving model to /content/Model_weights/MiniNet.h5\n",
            "WARNING:tensorflow:Early stopping conditioned on metric `val_acc` which is not available. Available metrics are: loss,accuracy,val_loss,val_accuracy,lr\n",
            "Epoch 27/100\n",
            "86/86 [==============================] - 1s 11ms/step - loss: 0.4010 - accuracy: 0.7968 - val_loss: 0.5129 - val_accuracy: 0.7668\n",
            "\n",
            "Epoch 00027: val_loss did not improve from 0.41552\n",
            "WARNING:tensorflow:Early stopping conditioned on metric `val_acc` which is not available. Available metrics are: loss,accuracy,val_loss,val_accuracy,lr\n",
            "Epoch 28/100\n",
            "86/86 [==============================] - 1s 10ms/step - loss: 0.3895 - accuracy: 0.8012 - val_loss: 0.5449 - val_accuracy: 0.7901\n",
            "\n",
            "Epoch 00028: val_loss did not improve from 0.41552\n",
            "WARNING:tensorflow:Early stopping conditioned on metric `val_acc` which is not available. Available metrics are: loss,accuracy,val_loss,val_accuracy,lr\n",
            "Epoch 29/100\n",
            "86/86 [==============================] - 1s 11ms/step - loss: 0.3893 - accuracy: 0.8136 - val_loss: 0.4567 - val_accuracy: 0.7872\n",
            "\n",
            "Epoch 00029: val_loss did not improve from 0.41552\n",
            "WARNING:tensorflow:Early stopping conditioned on metric `val_acc` which is not available. Available metrics are: loss,accuracy,val_loss,val_accuracy,lr\n",
            "Epoch 30/100\n",
            "86/86 [==============================] - 1s 10ms/step - loss: 0.3576 - accuracy: 0.8260 - val_loss: 0.4189 - val_accuracy: 0.7784\n",
            "\n",
            "Epoch 00030: val_loss did not improve from 0.41552\n",
            "WARNING:tensorflow:Early stopping conditioned on metric `val_acc` which is not available. Available metrics are: loss,accuracy,val_loss,val_accuracy,lr\n",
            "Epoch 31/100\n",
            "86/86 [==============================] - 1s 11ms/step - loss: 0.3620 - accuracy: 0.8282 - val_loss: 0.4952 - val_accuracy: 0.8017\n",
            "\n",
            "Epoch 00031: val_loss did not improve from 0.41552\n",
            "WARNING:tensorflow:Early stopping conditioned on metric `val_acc` which is not available. Available metrics are: loss,accuracy,val_loss,val_accuracy,lr\n",
            "Epoch 32/100\n",
            "86/86 [==============================] - 1s 10ms/step - loss: 0.3180 - accuracy: 0.8531 - val_loss: 0.5030 - val_accuracy: 0.7988\n",
            "\n",
            "Epoch 00032: val_loss did not improve from 0.41552\n",
            "WARNING:tensorflow:Early stopping conditioned on metric `val_acc` which is not available. Available metrics are: loss,accuracy,val_loss,val_accuracy,lr\n",
            "Epoch 33/100\n",
            "86/86 [==============================] - 1s 10ms/step - loss: 0.3082 - accuracy: 0.8531 - val_loss: 0.4022 - val_accuracy: 0.8280\n",
            "\n",
            "Epoch 00033: val_loss improved from 0.41552 to 0.40222, saving model to /content/Model_weights/MiniNet.h5\n",
            "WARNING:tensorflow:Early stopping conditioned on metric `val_acc` which is not available. Available metrics are: loss,accuracy,val_loss,val_accuracy,lr\n",
            "Epoch 34/100\n",
            "86/86 [==============================] - 1s 11ms/step - loss: 0.2929 - accuracy: 0.8735 - val_loss: 0.5260 - val_accuracy: 0.8047\n",
            "\n",
            "Epoch 00034: val_loss did not improve from 0.40222\n",
            "WARNING:tensorflow:Early stopping conditioned on metric `val_acc` which is not available. Available metrics are: loss,accuracy,val_loss,val_accuracy,lr\n",
            "Epoch 35/100\n",
            "86/86 [==============================] - 1s 11ms/step - loss: 0.2424 - accuracy: 0.8969 - val_loss: 0.5374 - val_accuracy: 0.8105\n",
            "\n",
            "Epoch 00035: val_loss did not improve from 0.40222\n",
            "WARNING:tensorflow:Early stopping conditioned on metric `val_acc` which is not available. Available metrics are: loss,accuracy,val_loss,val_accuracy,lr\n",
            "Epoch 36/100\n",
            "86/86 [==============================] - 1s 10ms/step - loss: 0.2295 - accuracy: 0.8999 - val_loss: 0.4800 - val_accuracy: 0.8426\n",
            "\n",
            "Epoch 00036: val_loss did not improve from 0.40222\n",
            "WARNING:tensorflow:Early stopping conditioned on metric `val_acc` which is not available. Available metrics are: loss,accuracy,val_loss,val_accuracy,lr\n",
            "Epoch 37/100\n",
            "86/86 [==============================] - 1s 11ms/step - loss: 0.2195 - accuracy: 0.9094 - val_loss: 0.8725 - val_accuracy: 0.8280\n",
            "\n",
            "Epoch 00037: val_loss did not improve from 0.40222\n",
            "WARNING:tensorflow:Early stopping conditioned on metric `val_acc` which is not available. Available metrics are: loss,accuracy,val_loss,val_accuracy,lr\n",
            "Epoch 38/100\n",
            "86/86 [==============================] - 1s 10ms/step - loss: 0.1926 - accuracy: 0.9189 - val_loss: 0.6248 - val_accuracy: 0.7930\n",
            "\n",
            "Epoch 00038: val_loss did not improve from 0.40222\n",
            "WARNING:tensorflow:Early stopping conditioned on metric `val_acc` which is not available. Available metrics are: loss,accuracy,val_loss,val_accuracy,lr\n",
            "Epoch 39/100\n",
            "86/86 [==============================] - 1s 10ms/step - loss: 0.1641 - accuracy: 0.9327 - val_loss: 0.6624 - val_accuracy: 0.8134\n",
            "\n",
            "Epoch 00039: val_loss did not improve from 0.40222\n",
            "WARNING:tensorflow:Early stopping conditioned on metric `val_acc` which is not available. Available metrics are: loss,accuracy,val_loss,val_accuracy,lr\n",
            "Epoch 40/100\n",
            "86/86 [==============================] - 1s 10ms/step - loss: 0.1982 - accuracy: 0.9247 - val_loss: 0.6026 - val_accuracy: 0.8134\n",
            "\n",
            "Epoch 00040: val_loss did not improve from 0.40222\n",
            "WARNING:tensorflow:Early stopping conditioned on metric `val_acc` which is not available. Available metrics are: loss,accuracy,val_loss,val_accuracy,lr\n",
            "Epoch 41/100\n",
            "86/86 [==============================] - 1s 11ms/step - loss: 0.2000 - accuracy: 0.9167 - val_loss: 0.7486 - val_accuracy: 0.8105\n",
            "\n",
            "Epoch 00041: val_loss did not improve from 0.40222\n",
            "\n",
            "Epoch 00041: ReduceLROnPlateau reducing learning rate to 0.0001500000071246177.\n",
            "WARNING:tensorflow:Early stopping conditioned on metric `val_acc` which is not available. Available metrics are: loss,accuracy,val_loss,val_accuracy,lr\n",
            "Epoch 42/100\n",
            "86/86 [==============================] - 1s 11ms/step - loss: 0.1138 - accuracy: 0.9591 - val_loss: 0.6774 - val_accuracy: 0.7901\n",
            "\n",
            "Epoch 00042: val_loss did not improve from 0.40222\n",
            "WARNING:tensorflow:Early stopping conditioned on metric `val_acc` which is not available. Available metrics are: loss,accuracy,val_loss,val_accuracy,lr\n",
            "Epoch 43/100\n",
            "86/86 [==============================] - 1s 11ms/step - loss: 0.0970 - accuracy: 0.9715 - val_loss: 0.7015 - val_accuracy: 0.8047\n",
            "\n",
            "Epoch 00043: val_loss did not improve from 0.40222\n",
            "WARNING:tensorflow:Early stopping conditioned on metric `val_acc` which is not available. Available metrics are: loss,accuracy,val_loss,val_accuracy,lr\n",
            "Epoch 44/100\n",
            "86/86 [==============================] - 1s 11ms/step - loss: 0.0922 - accuracy: 0.9678 - val_loss: 0.7629 - val_accuracy: 0.7988\n",
            "\n",
            "Epoch 00044: val_loss did not improve from 0.40222\n",
            "WARNING:tensorflow:Early stopping conditioned on metric `val_acc` which is not available. Available metrics are: loss,accuracy,val_loss,val_accuracy,lr\n",
            "Epoch 45/100\n",
            "86/86 [==============================] - 1s 10ms/step - loss: 0.0933 - accuracy: 0.9686 - val_loss: 0.7442 - val_accuracy: 0.8017\n",
            "\n",
            "Epoch 00045: val_loss did not improve from 0.40222\n",
            "WARNING:tensorflow:Early stopping conditioned on metric `val_acc` which is not available. Available metrics are: loss,accuracy,val_loss,val_accuracy,lr\n",
            "Epoch 46/100\n",
            "86/86 [==============================] - 1s 10ms/step - loss: 0.0813 - accuracy: 0.9730 - val_loss: 0.7968 - val_accuracy: 0.8047\n",
            "\n",
            "Epoch 00046: val_loss did not improve from 0.40222\n",
            "WARNING:tensorflow:Early stopping conditioned on metric `val_acc` which is not available. Available metrics are: loss,accuracy,val_loss,val_accuracy,lr\n",
            "Epoch 47/100\n",
            "86/86 [==============================] - 1s 11ms/step - loss: 0.0710 - accuracy: 0.9788 - val_loss: 0.7898 - val_accuracy: 0.8047\n",
            "\n",
            "Epoch 00047: val_loss did not improve from 0.40222\n",
            "WARNING:tensorflow:Early stopping conditioned on metric `val_acc` which is not available. Available metrics are: loss,accuracy,val_loss,val_accuracy,lr\n",
            "Epoch 48/100\n",
            "86/86 [==============================] - 1s 11ms/step - loss: 0.0722 - accuracy: 0.9773 - val_loss: 0.8145 - val_accuracy: 0.7959\n",
            "\n",
            "Epoch 00048: val_loss did not improve from 0.40222\n",
            "WARNING:tensorflow:Early stopping conditioned on metric `val_acc` which is not available. Available metrics are: loss,accuracy,val_loss,val_accuracy,lr\n",
            "Epoch 49/100\n",
            "86/86 [==============================] - 1s 11ms/step - loss: 0.0677 - accuracy: 0.9722 - val_loss: 0.8229 - val_accuracy: 0.8105\n",
            "\n",
            "Epoch 00049: val_loss did not improve from 0.40222\n",
            "\n",
            "Epoch 00049: ReduceLROnPlateau reducing learning rate to 2.2500001068692655e-05.\n",
            "WARNING:tensorflow:Early stopping conditioned on metric `val_acc` which is not available. Available metrics are: loss,accuracy,val_loss,val_accuracy,lr\n",
            "Epoch 50/100\n",
            "86/86 [==============================] - 1s 10ms/step - loss: 0.0604 - accuracy: 0.9803 - val_loss: 0.8310 - val_accuracy: 0.8105\n",
            "\n",
            "Epoch 00050: val_loss did not improve from 0.40222\n",
            "WARNING:tensorflow:Early stopping conditioned on metric `val_acc` which is not available. Available metrics are: loss,accuracy,val_loss,val_accuracy,lr\n",
            "Epoch 51/100\n",
            "86/86 [==============================] - 1s 11ms/step - loss: 0.0565 - accuracy: 0.9825 - val_loss: 0.8371 - val_accuracy: 0.8017\n",
            "\n",
            "Epoch 00051: val_loss did not improve from 0.40222\n",
            "WARNING:tensorflow:Early stopping conditioned on metric `val_acc` which is not available. Available metrics are: loss,accuracy,val_loss,val_accuracy,lr\n",
            "Epoch 52/100\n",
            "86/86 [==============================] - 1s 11ms/step - loss: 0.0646 - accuracy: 0.9781 - val_loss: 0.8466 - val_accuracy: 0.8047\n",
            "\n",
            "Epoch 00052: val_loss did not improve from 0.40222\n",
            "WARNING:tensorflow:Early stopping conditioned on metric `val_acc` which is not available. Available metrics are: loss,accuracy,val_loss,val_accuracy,lr\n",
            "Epoch 53/100\n",
            "86/86 [==============================] - 1s 11ms/step - loss: 0.0604 - accuracy: 0.9810 - val_loss: 0.8513 - val_accuracy: 0.8017\n",
            "\n",
            "Epoch 00053: val_loss did not improve from 0.40222\n",
            "WARNING:tensorflow:Early stopping conditioned on metric `val_acc` which is not available. Available metrics are: loss,accuracy,val_loss,val_accuracy,lr\n",
            "Epoch 54/100\n",
            "86/86 [==============================] - 1s 11ms/step - loss: 0.0577 - accuracy: 0.9803 - val_loss: 0.8632 - val_accuracy: 0.8017\n",
            "\n",
            "Epoch 00054: val_loss did not improve from 0.40222\n",
            "WARNING:tensorflow:Early stopping conditioned on metric `val_acc` which is not available. Available metrics are: loss,accuracy,val_loss,val_accuracy,lr\n",
            "Epoch 55/100\n",
            "86/86 [==============================] - 1s 11ms/step - loss: 0.0609 - accuracy: 0.9795 - val_loss: 0.8611 - val_accuracy: 0.7959\n",
            "\n",
            "Epoch 00055: val_loss did not improve from 0.40222\n",
            "WARNING:tensorflow:Early stopping conditioned on metric `val_acc` which is not available. Available metrics are: loss,accuracy,val_loss,val_accuracy,lr\n",
            "Epoch 56/100\n",
            "86/86 [==============================] - 1s 11ms/step - loss: 0.0597 - accuracy: 0.9803 - val_loss: 0.8714 - val_accuracy: 0.8047\n",
            "\n",
            "Epoch 00056: val_loss did not improve from 0.40222\n",
            "WARNING:tensorflow:Early stopping conditioned on metric `val_acc` which is not available. Available metrics are: loss,accuracy,val_loss,val_accuracy,lr\n",
            "Epoch 57/100\n",
            "86/86 [==============================] - 1s 11ms/step - loss: 0.0634 - accuracy: 0.9846 - val_loss: 0.8780 - val_accuracy: 0.8047\n",
            "\n",
            "Epoch 00057: val_loss did not improve from 0.40222\n",
            "\n",
            "Epoch 00057: ReduceLROnPlateau reducing learning rate to 3.3750000511645338e-06.\n",
            "WARNING:tensorflow:Early stopping conditioned on metric `val_acc` which is not available. Available metrics are: loss,accuracy,val_loss,val_accuracy,lr\n",
            "Epoch 58/100\n",
            "86/86 [==============================] - 1s 11ms/step - loss: 0.0555 - accuracy: 0.9817 - val_loss: 0.8766 - val_accuracy: 0.8047\n",
            "\n",
            "Epoch 00058: val_loss did not improve from 0.40222\n",
            "WARNING:tensorflow:Early stopping conditioned on metric `val_acc` which is not available. Available metrics are: loss,accuracy,val_loss,val_accuracy,lr\n",
            "Epoch 59/100\n",
            "86/86 [==============================] - 1s 10ms/step - loss: 0.0593 - accuracy: 0.9803 - val_loss: 0.8788 - val_accuracy: 0.8047\n",
            "\n",
            "Epoch 00059: val_loss did not improve from 0.40222\n",
            "WARNING:tensorflow:Early stopping conditioned on metric `val_acc` which is not available. Available metrics are: loss,accuracy,val_loss,val_accuracy,lr\n",
            "Epoch 60/100\n",
            "86/86 [==============================] - 1s 11ms/step - loss: 0.0607 - accuracy: 0.9766 - val_loss: 0.8770 - val_accuracy: 0.8047\n",
            "\n",
            "Epoch 00060: val_loss did not improve from 0.40222\n",
            "WARNING:tensorflow:Early stopping conditioned on metric `val_acc` which is not available. Available metrics are: loss,accuracy,val_loss,val_accuracy,lr\n",
            "Epoch 61/100\n",
            "86/86 [==============================] - 1s 11ms/step - loss: 0.0636 - accuracy: 0.9744 - val_loss: 0.8770 - val_accuracy: 0.8047\n",
            "\n",
            "Epoch 00061: val_loss did not improve from 0.40222\n",
            "WARNING:tensorflow:Early stopping conditioned on metric `val_acc` which is not available. Available metrics are: loss,accuracy,val_loss,val_accuracy,lr\n",
            "Epoch 62/100\n",
            "86/86 [==============================] - 1s 11ms/step - loss: 0.0566 - accuracy: 0.9788 - val_loss: 0.8773 - val_accuracy: 0.8047\n",
            "\n",
            "Epoch 00062: val_loss did not improve from 0.40222\n",
            "WARNING:tensorflow:Early stopping conditioned on metric `val_acc` which is not available. Available metrics are: loss,accuracy,val_loss,val_accuracy,lr\n",
            "Epoch 63/100\n",
            "86/86 [==============================] - 1s 11ms/step - loss: 0.0552 - accuracy: 0.9839 - val_loss: 0.8775 - val_accuracy: 0.8047\n",
            "\n",
            "Epoch 00063: val_loss did not improve from 0.40222\n",
            "WARNING:tensorflow:Early stopping conditioned on metric `val_acc` which is not available. Available metrics are: loss,accuracy,val_loss,val_accuracy,lr\n",
            "Epoch 64/100\n",
            "86/86 [==============================] - 1s 11ms/step - loss: 0.0601 - accuracy: 0.9825 - val_loss: 0.8795 - val_accuracy: 0.8047\n",
            "\n",
            "Epoch 00064: val_loss did not improve from 0.40222\n",
            "WARNING:tensorflow:Early stopping conditioned on metric `val_acc` which is not available. Available metrics are: loss,accuracy,val_loss,val_accuracy,lr\n",
            "Epoch 65/100\n",
            "86/86 [==============================] - 1s 11ms/step - loss: 0.0568 - accuracy: 0.9839 - val_loss: 0.8793 - val_accuracy: 0.8047\n",
            "\n",
            "Epoch 00065: val_loss did not improve from 0.40222\n",
            "\n",
            "Epoch 00065: ReduceLROnPlateau reducing learning rate to 5.062500008534698e-07.\n",
            "WARNING:tensorflow:Early stopping conditioned on metric `val_acc` which is not available. Available metrics are: loss,accuracy,val_loss,val_accuracy,lr\n",
            "Epoch 66/100\n",
            "86/86 [==============================] - 1s 11ms/step - loss: 0.0581 - accuracy: 0.9803 - val_loss: 0.8794 - val_accuracy: 0.8017\n",
            "\n",
            "Epoch 00066: val_loss did not improve from 0.40222\n",
            "WARNING:tensorflow:Early stopping conditioned on metric `val_acc` which is not available. Available metrics are: loss,accuracy,val_loss,val_accuracy,lr\n",
            "Epoch 67/100\n",
            "86/86 [==============================] - 1s 11ms/step - loss: 0.0596 - accuracy: 0.9788 - val_loss: 0.8792 - val_accuracy: 0.8047\n",
            "\n",
            "Epoch 00067: val_loss did not improve from 0.40222\n",
            "WARNING:tensorflow:Early stopping conditioned on metric `val_acc` which is not available. Available metrics are: loss,accuracy,val_loss,val_accuracy,lr\n",
            "Epoch 68/100\n",
            "86/86 [==============================] - 1s 11ms/step - loss: 0.0583 - accuracy: 0.9795 - val_loss: 0.8793 - val_accuracy: 0.8017\n",
            "\n",
            "Epoch 00068: val_loss did not improve from 0.40222\n",
            "WARNING:tensorflow:Early stopping conditioned on metric `val_acc` which is not available. Available metrics are: loss,accuracy,val_loss,val_accuracy,lr\n",
            "Epoch 69/100\n",
            "86/86 [==============================] - 1s 11ms/step - loss: 0.0545 - accuracy: 0.9788 - val_loss: 0.8790 - val_accuracy: 0.8017\n",
            "\n",
            "Epoch 00069: val_loss did not improve from 0.40222\n",
            "WARNING:tensorflow:Early stopping conditioned on metric `val_acc` which is not available. Available metrics are: loss,accuracy,val_loss,val_accuracy,lr\n",
            "Epoch 70/100\n",
            "86/86 [==============================] - 1s 11ms/step - loss: 0.0552 - accuracy: 0.9795 - val_loss: 0.8789 - val_accuracy: 0.8017\n",
            "\n",
            "Epoch 00070: val_loss did not improve from 0.40222\n",
            "WARNING:tensorflow:Early stopping conditioned on metric `val_acc` which is not available. Available metrics are: loss,accuracy,val_loss,val_accuracy,lr\n",
            "Epoch 71/100\n",
            "86/86 [==============================] - 1s 10ms/step - loss: 0.0586 - accuracy: 0.9825 - val_loss: 0.8792 - val_accuracy: 0.8017\n",
            "\n",
            "Epoch 00071: val_loss did not improve from 0.40222\n",
            "WARNING:tensorflow:Early stopping conditioned on metric `val_acc` which is not available. Available metrics are: loss,accuracy,val_loss,val_accuracy,lr\n",
            "Epoch 72/100\n",
            "86/86 [==============================] - 1s 11ms/step - loss: 0.0579 - accuracy: 0.9825 - val_loss: 0.8796 - val_accuracy: 0.8017\n",
            "\n",
            "Epoch 00072: val_loss did not improve from 0.40222\n",
            "WARNING:tensorflow:Early stopping conditioned on metric `val_acc` which is not available. Available metrics are: loss,accuracy,val_loss,val_accuracy,lr\n",
            "Epoch 73/100\n",
            "86/86 [==============================] - 1s 11ms/step - loss: 0.0573 - accuracy: 0.9795 - val_loss: 0.8797 - val_accuracy: 0.8017\n",
            "\n",
            "Epoch 00073: val_loss did not improve from 0.40222\n",
            "\n",
            "Epoch 00073: ReduceLROnPlateau reducing learning rate to 7.59374984227179e-08.\n",
            "WARNING:tensorflow:Early stopping conditioned on metric `val_acc` which is not available. Available metrics are: loss,accuracy,val_loss,val_accuracy,lr\n",
            "Epoch 74/100\n",
            "86/86 [==============================] - 1s 11ms/step - loss: 0.0565 - accuracy: 0.9795 - val_loss: 0.8797 - val_accuracy: 0.8017\n",
            "\n",
            "Epoch 00074: val_loss did not improve from 0.40222\n",
            "WARNING:tensorflow:Early stopping conditioned on metric `val_acc` which is not available. Available metrics are: loss,accuracy,val_loss,val_accuracy,lr\n",
            "Epoch 75/100\n",
            "86/86 [==============================] - 1s 11ms/step - loss: 0.0585 - accuracy: 0.9795 - val_loss: 0.8797 - val_accuracy: 0.8017\n",
            "\n",
            "Epoch 00075: val_loss did not improve from 0.40222\n",
            "WARNING:tensorflow:Early stopping conditioned on metric `val_acc` which is not available. Available metrics are: loss,accuracy,val_loss,val_accuracy,lr\n",
            "Epoch 76/100\n",
            "86/86 [==============================] - 1s 11ms/step - loss: 0.0542 - accuracy: 0.9825 - val_loss: 0.8797 - val_accuracy: 0.8017\n",
            "\n",
            "Epoch 00076: val_loss did not improve from 0.40222\n",
            "WARNING:tensorflow:Early stopping conditioned on metric `val_acc` which is not available. Available metrics are: loss,accuracy,val_loss,val_accuracy,lr\n",
            "Epoch 77/100\n",
            "86/86 [==============================] - 1s 11ms/step - loss: 0.0546 - accuracy: 0.9854 - val_loss: 0.8797 - val_accuracy: 0.8017\n",
            "\n",
            "Epoch 00077: val_loss did not improve from 0.40222\n",
            "WARNING:tensorflow:Early stopping conditioned on metric `val_acc` which is not available. Available metrics are: loss,accuracy,val_loss,val_accuracy,lr\n",
            "Epoch 78/100\n",
            "86/86 [==============================] - 1s 11ms/step - loss: 0.0609 - accuracy: 0.9803 - val_loss: 0.8798 - val_accuracy: 0.8017\n",
            "\n",
            "Epoch 00078: val_loss did not improve from 0.40222\n",
            "WARNING:tensorflow:Early stopping conditioned on metric `val_acc` which is not available. Available metrics are: loss,accuracy,val_loss,val_accuracy,lr\n",
            "Epoch 79/100\n",
            "86/86 [==============================] - 1s 11ms/step - loss: 0.0572 - accuracy: 0.9825 - val_loss: 0.8797 - val_accuracy: 0.8017\n",
            "\n",
            "Epoch 00079: val_loss did not improve from 0.40222\n",
            "WARNING:tensorflow:Early stopping conditioned on metric `val_acc` which is not available. Available metrics are: loss,accuracy,val_loss,val_accuracy,lr\n",
            "Epoch 80/100\n",
            "86/86 [==============================] - 1s 11ms/step - loss: 0.0570 - accuracy: 0.9795 - val_loss: 0.8799 - val_accuracy: 0.8017\n",
            "\n",
            "Epoch 00080: val_loss did not improve from 0.40222\n",
            "WARNING:tensorflow:Early stopping conditioned on metric `val_acc` which is not available. Available metrics are: loss,accuracy,val_loss,val_accuracy,lr\n",
            "Epoch 81/100\n",
            "86/86 [==============================] - 1s 11ms/step - loss: 0.0618 - accuracy: 0.9759 - val_loss: 0.8798 - val_accuracy: 0.8017\n",
            "\n",
            "Epoch 00081: val_loss did not improve from 0.40222\n",
            "\n",
            "Epoch 00081: ReduceLROnPlateau reducing learning rate to 1.1390624976570507e-08.\n",
            "WARNING:tensorflow:Early stopping conditioned on metric `val_acc` which is not available. Available metrics are: loss,accuracy,val_loss,val_accuracy,lr\n",
            "Epoch 82/100\n",
            "86/86 [==============================] - 1s 11ms/step - loss: 0.0521 - accuracy: 0.9817 - val_loss: 0.8798 - val_accuracy: 0.8017\n",
            "\n",
            "Epoch 00082: val_loss did not improve from 0.40222\n",
            "WARNING:tensorflow:Early stopping conditioned on metric `val_acc` which is not available. Available metrics are: loss,accuracy,val_loss,val_accuracy,lr\n",
            "Epoch 83/100\n",
            "86/86 [==============================] - 1s 11ms/step - loss: 0.0616 - accuracy: 0.9781 - val_loss: 0.8798 - val_accuracy: 0.8017\n",
            "\n",
            "Epoch 00083: val_loss did not improve from 0.40222\n",
            "WARNING:tensorflow:Early stopping conditioned on metric `val_acc` which is not available. Available metrics are: loss,accuracy,val_loss,val_accuracy,lr\n",
            "Epoch 84/100\n",
            "86/86 [==============================] - 1s 11ms/step - loss: 0.0538 - accuracy: 0.9846 - val_loss: 0.8798 - val_accuracy: 0.8017\n",
            "\n",
            "Epoch 00084: val_loss did not improve from 0.40222\n",
            "WARNING:tensorflow:Early stopping conditioned on metric `val_acc` which is not available. Available metrics are: loss,accuracy,val_loss,val_accuracy,lr\n",
            "Epoch 85/100\n",
            "86/86 [==============================] - 1s 11ms/step - loss: 0.0574 - accuracy: 0.9803 - val_loss: 0.8798 - val_accuracy: 0.8017\n",
            "\n",
            "Epoch 00085: val_loss did not improve from 0.40222\n",
            "WARNING:tensorflow:Early stopping conditioned on metric `val_acc` which is not available. Available metrics are: loss,accuracy,val_loss,val_accuracy,lr\n",
            "Epoch 86/100\n",
            "86/86 [==============================] - 1s 11ms/step - loss: 0.0631 - accuracy: 0.9781 - val_loss: 0.8798 - val_accuracy: 0.8017\n",
            "\n",
            "Epoch 00086: val_loss did not improve from 0.40222\n",
            "WARNING:tensorflow:Early stopping conditioned on metric `val_acc` which is not available. Available metrics are: loss,accuracy,val_loss,val_accuracy,lr\n",
            "Epoch 87/100\n",
            "86/86 [==============================] - 1s 11ms/step - loss: 0.0559 - accuracy: 0.9854 - val_loss: 0.8798 - val_accuracy: 0.8017\n",
            "\n",
            "Epoch 00087: val_loss did not improve from 0.40222\n",
            "WARNING:tensorflow:Early stopping conditioned on metric `val_acc` which is not available. Available metrics are: loss,accuracy,val_loss,val_accuracy,lr\n",
            "Epoch 88/100\n",
            "86/86 [==============================] - 1s 11ms/step - loss: 0.0568 - accuracy: 0.9817 - val_loss: 0.8798 - val_accuracy: 0.8017\n",
            "\n",
            "Epoch 00088: val_loss did not improve from 0.40222\n",
            "WARNING:tensorflow:Early stopping conditioned on metric `val_acc` which is not available. Available metrics are: loss,accuracy,val_loss,val_accuracy,lr\n",
            "Epoch 89/100\n",
            "86/86 [==============================] - 1s 11ms/step - loss: 0.0615 - accuracy: 0.9759 - val_loss: 0.8798 - val_accuracy: 0.8017\n",
            "\n",
            "Epoch 00089: val_loss did not improve from 0.40222\n",
            "\n",
            "Epoch 00089: ReduceLROnPlateau reducing learning rate to 1.7085937997762811e-09.\n",
            "WARNING:tensorflow:Early stopping conditioned on metric `val_acc` which is not available. Available metrics are: loss,accuracy,val_loss,val_accuracy,lr\n",
            "Epoch 90/100\n",
            "86/86 [==============================] - 1s 11ms/step - loss: 0.0632 - accuracy: 0.9773 - val_loss: 0.8798 - val_accuracy: 0.8017\n",
            "\n",
            "Epoch 00090: val_loss did not improve from 0.40222\n",
            "WARNING:tensorflow:Early stopping conditioned on metric `val_acc` which is not available. Available metrics are: loss,accuracy,val_loss,val_accuracy,lr\n",
            "Epoch 91/100\n",
            "86/86 [==============================] - 1s 11ms/step - loss: 0.0548 - accuracy: 0.9846 - val_loss: 0.8798 - val_accuracy: 0.8017\n",
            "\n",
            "Epoch 00091: val_loss did not improve from 0.40222\n",
            "WARNING:tensorflow:Early stopping conditioned on metric `val_acc` which is not available. Available metrics are: loss,accuracy,val_loss,val_accuracy,lr\n",
            "Epoch 92/100\n",
            "86/86 [==============================] - 1s 11ms/step - loss: 0.0564 - accuracy: 0.9810 - val_loss: 0.8798 - val_accuracy: 0.8017\n",
            "\n",
            "Epoch 00092: val_loss did not improve from 0.40222\n",
            "WARNING:tensorflow:Early stopping conditioned on metric `val_acc` which is not available. Available metrics are: loss,accuracy,val_loss,val_accuracy,lr\n",
            "Epoch 93/100\n",
            "86/86 [==============================] - 1s 11ms/step - loss: 0.0526 - accuracy: 0.9832 - val_loss: 0.8798 - val_accuracy: 0.8017\n",
            "\n",
            "Epoch 00093: val_loss did not improve from 0.40222\n",
            "WARNING:tensorflow:Early stopping conditioned on metric `val_acc` which is not available. Available metrics are: loss,accuracy,val_loss,val_accuracy,lr\n",
            "Epoch 94/100\n",
            "86/86 [==============================] - 1s 11ms/step - loss: 0.0575 - accuracy: 0.9781 - val_loss: 0.8798 - val_accuracy: 0.8017\n",
            "\n",
            "Epoch 00094: val_loss did not improve from 0.40222\n",
            "WARNING:tensorflow:Early stopping conditioned on metric `val_acc` which is not available. Available metrics are: loss,accuracy,val_loss,val_accuracy,lr\n",
            "Epoch 95/100\n",
            "86/86 [==============================] - 1s 11ms/step - loss: 0.0576 - accuracy: 0.9810 - val_loss: 0.8798 - val_accuracy: 0.8017\n",
            "\n",
            "Epoch 00095: val_loss did not improve from 0.40222\n",
            "WARNING:tensorflow:Early stopping conditioned on metric `val_acc` which is not available. Available metrics are: loss,accuracy,val_loss,val_accuracy,lr\n",
            "Epoch 96/100\n",
            "86/86 [==============================] - 1s 11ms/step - loss: 0.0575 - accuracy: 0.9832 - val_loss: 0.8798 - val_accuracy: 0.8017\n",
            "\n",
            "Epoch 00096: val_loss did not improve from 0.40222\n",
            "WARNING:tensorflow:Early stopping conditioned on metric `val_acc` which is not available. Available metrics are: loss,accuracy,val_loss,val_accuracy,lr\n",
            "Epoch 97/100\n",
            "86/86 [==============================] - 1s 11ms/step - loss: 0.0542 - accuracy: 0.9817 - val_loss: 0.8798 - val_accuracy: 0.8017\n",
            "\n",
            "Epoch 00097: val_loss did not improve from 0.40222\n",
            "\n",
            "Epoch 00097: ReduceLROnPlateau reducing learning rate to 2.5628907329711126e-10.\n",
            "WARNING:tensorflow:Early stopping conditioned on metric `val_acc` which is not available. Available metrics are: loss,accuracy,val_loss,val_accuracy,lr\n",
            "Epoch 98/100\n",
            "86/86 [==============================] - 1s 12ms/step - loss: 0.0631 - accuracy: 0.9810 - val_loss: 0.8798 - val_accuracy: 0.8017\n",
            "\n",
            "Epoch 00098: val_loss did not improve from 0.40222\n",
            "WARNING:tensorflow:Early stopping conditioned on metric `val_acc` which is not available. Available metrics are: loss,accuracy,val_loss,val_accuracy,lr\n",
            "Epoch 99/100\n",
            "86/86 [==============================] - 1s 11ms/step - loss: 0.0605 - accuracy: 0.9788 - val_loss: 0.8798 - val_accuracy: 0.8017\n",
            "\n",
            "Epoch 00099: val_loss did not improve from 0.40222\n",
            "WARNING:tensorflow:Early stopping conditioned on metric `val_acc` which is not available. Available metrics are: loss,accuracy,val_loss,val_accuracy,lr\n",
            "Epoch 100/100\n",
            "86/86 [==============================] - 1s 11ms/step - loss: 0.0583 - accuracy: 0.9803 - val_loss: 0.8798 - val_accuracy: 0.8017\n",
            "\n",
            "Epoch 00100: val_loss did not improve from 0.40222\n",
            "WARNING:tensorflow:Early stopping conditioned on metric `val_acc` which is not available. Available metrics are: loss,accuracy,val_loss,val_accuracy,lr\n"
          ]
        }
      ]
    },
    {
      "cell_type": "code",
      "metadata": {
        "colab": {
          "base_uri": "https://localhost:8080/",
          "height": 1000
        },
        "id": "JkigQ40LYWVR",
        "outputId": "0de85cc6-57ab-466a-f2c2-9eaa63be9482"
      },
      "source": [
        "plt.plot(hist.history['accuracy'])\n",
        "plt.plot(hist.history['val_accuracy'])\n",
        "plt.title('Model Accuracy')\n",
        "plt.ylabel('Accuracy')\n",
        "plt.xlabel('Epoch')\n",
        "plt.legend(['Train', 'Val'], loc='upper right')\n",
        "plt.show()\n",
        "\n",
        "\n",
        "plt.plot(hist.history['loss'])\n",
        "plt.plot(hist.history['val_loss'])\n",
        "plt.title('Model Loss')\n",
        "plt.ylabel('Loss')\n",
        "plt.xlabel('Epoch')\n",
        "plt.legend(['Train', 'Val'], loc='upper right')\n",
        "plt.show()"
      ],
      "execution_count": 289,
      "outputs": [
        {
          "output_type": "display_data",
          "data": {
            "image/png": "[encoded data removed]",
            "text/plain": [
              "<Figure size 800x600 with 1 Axes>"
            ]
          },
          "metadata": {
            "needs_background": "light"
          }
        },
        {
          "output_type": "display_data",
          "data": {
            "image/png": "[encoded data removed]",
            "text/plain": [
              "<Figure size 800x600 with 1 Axes>"
            ]
          },
          "metadata": {
            "needs_background": "light"
          }
        }
      ]
    },
    {
      "cell_type": "code",
      "metadata": {
        "id": "wK_S2W3JYWTF"
      },
      "source": [
        "def plot_confusion_matrix(cm, classes,\n",
        "                          normalize=False,\n",
        "                          title='Confusion matrix',\n",
        "                          cmap=plt.cm.Blues):\n",
        "    \"\"\"\n",
        "    This function prints and plots the confusion matrix.\n",
        "    Normalization can be applied by setting `normalize=True`.\n",
        "    \"\"\"\n",
        "    plt.imshow(cm, interpolation='nearest', cmap=cmap)\n",
        "    plt.title(title)\n",
        "    plt.colorbar()\n",
        "    tick_marks = np.arange(len(classes))\n",
        "    plt.xticks(tick_marks, classes, rotation=45)\n",
        "    plt.yticks(tick_marks, classes)\n",
        "\n",
        "    if normalize:\n",
        "        cm = cm.astype('float') / cm.sum(axis=1)[:, np.newaxis]\n",
        "\n",
        "    thresh = cm.max() / 2.\n",
        "    for i, j in itertools.product(range(cm.shape[0]), range(cm.shape[1])):\n",
        "        plt.text(j, i, cm[i, j],\n",
        "                 horizontalalignment=\"center\",\n",
        "                 color=\"white\" if cm[i, j] > thresh else \"black\")\n",
        "\n",
        "    plt.tight_layout()\n",
        "    plt.ylabel('True label')\n",
        "    plt.xlabel('Predicted label')"
      ],
      "execution_count": 290,
      "outputs": []
    },
    {
      "cell_type": "code",
      "metadata": {
        "colab": {
          "base_uri": "https://localhost:8080/",
          "height": 625
        },
        "id": "VSMT5_KCYWQL",
        "outputId": "d96bae19-dfe2-42da-f447-c792a25e1269"
      },
      "source": [
        "# Predict the values from the validation dataset\n",
        "Y_pred = model.predict(X_val)\n",
        "# Convert predictions classes to one hot vectors \n",
        "Y_pred_classes = np.argmax(Y_pred,axis = 1) \n",
        "# Convert validation observations to one hot vectors\n",
        "Y_true = np.argmax(Y_val,axis = 1) \n",
        "# compute the confusion matrix\n",
        "confusion_mtx = confusion_matrix(Y_true, Y_pred_classes) \n",
        "# plot the confusion matrix\n",
        "plot_confusion_matrix(confusion_mtx, classes = range(2))"
      ],
      "execution_count": 291,
      "outputs": [
        {
          "output_type": "display_data",
          "data": {
            "image/png": "[encoded data removed]",
            "text/plain": [
              "<Figure size 800x600 with 2 Axes>"
            ]
          },
          "metadata": {
            "needs_background": "light"
          }
        }
      ]
    }
  ]
}