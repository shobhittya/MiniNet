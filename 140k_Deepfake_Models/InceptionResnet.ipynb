{
  "nbformat": 4,
  "nbformat_minor": 0,
  "metadata": {
    "accelerator": "GPU",
    "colab": {
      "name": "InceptionResnet.ipynb",
      "provenance": [],
      "authorship_tag": "ABX9TyOFl99snKTYWB5089z1EHSM",
      "include_colab_link": true
    },
    "kernelspec": {
      "display_name": "Python 3",
      "name": "python3"
    },
    "language_info": {
      "name": "python"
    }
  },
  "cells": [
    {
      "cell_type": "markdown",
      "metadata": {
        "id": "view-in-github",
        "colab_type": "text"
      },
      "source": [
        "<a href=\"https://colab.research.google.com/github/shobhittya/deeplearning/blob/main/InceptionResnet.ipynb\" target=\"_parent\"><img src=\"https://colab.research.google.com/assets/colab-badge.svg\" alt=\"Open In Colab\"/></a>"
      ]
    },
    {
      "cell_type": "code",
      "metadata": {
        "id": "Tx7O1I4-I-hv"
      },
      "source": [
        "import numpy as np\n",
        "import matplotlib.pyplot as plt\n",
        "from tensorflow.keras.layers import Input, Dense, Flatten, Conv2D, MaxPooling2D, BatchNormalization, Dropout, Reshape, Concatenate, LeakyReLU\n",
        "from tensorflow.keras.preprocessing.image import ImageDataGenerator\n",
        "from tensorflow.keras.optimizers import Adam\n",
        "from tensorflow.keras.models import Model"
      ],
      "execution_count": 1,
      "outputs": []
    },
    {
      "cell_type": "code",
      "metadata": {
        "colab": {
          "base_uri": "https://localhost:8080/",
          "height": 34
        },
        "id": "qlWdJ7T2xQnw",
        "outputId": "df4c12f3-edb3-439c-cd6c-54dfaa304b3a"
      },
      "source": [
        "#import necessary libraries\n",
        "import numpy as np\n",
        "import matplotlib.pyplot as plt\n",
        "%matplotlib inline\n",
        "np.random.seed(2)\n",
        "from sklearn.model_selection import train_test_split\n",
        "from sklearn.metrics import confusion_matrix\n",
        "from keras.utils.np_utils import to_categorical\n",
        "from keras.models import Sequential\n",
        "from keras.layers import Dense, Flatten, Conv2D, MaxPool2D, Dropout\n",
        "from keras.optimizers import Adam\n",
        "from keras.preprocessing.image import ImageDataGenerator\n",
        "from keras.callbacks import EarlyStopping"
      ],
      "execution_count": 3,
      "outputs": [
        {
          "output_type": "execute_result",
          "data": {
            "application/vnd.google.colaboratory.intrinsic+json": {
              "type": "string"
            },
            "text/plain": [
              "'2.6.0'"
            ]
          },
          "metadata": {},
          "execution_count": 3
        }
      ]
    },
    {
      "cell_type": "code",
      "metadata": {
        "id": "TD6jsF_sJLFD"
      },
      "source": [
        "!pip install opendatasets --upgrade --quiet"
      ],
      "execution_count": 5,
      "outputs": []
    },
    {
      "cell_type": "code",
      "metadata": {
        "id": "5rRFGeO6JOLS"
      },
      "source": [
        "import opendatasets as od"
      ],
      "execution_count": 6,
      "outputs": []
    },
    {
      "cell_type": "code",
      "metadata": {
        "id": "WEYd_F9lJQtu"
      },
      "source": [
        "dataset_url = \"https://www.kaggle.com/sophatvathana/casia-dataset\""
      ],
      "execution_count": 7,
      "outputs": []
    },
    {
      "cell_type": "code",
      "metadata": {
        "id": "7VM3Gk2gJVih"
      },
      "source": [
        "import os"
      ],
      "execution_count": 8,
      "outputs": []
    },
    {
      "cell_type": "code",
      "metadata": {
        "colab": {
          "base_uri": "https://localhost:8080/"
        },
        "id": "9xynIwK6JXN2",
        "outputId": "df96ee0f-936d-4c51-8826-ac3248b96df0"
      },
      "source": [
        "od.download(dataset_url)"
      ],
      "execution_count": 9,
      "outputs": [
        {
          "output_type": "stream",
          "name": "stdout",
          "text": [
            "Please provide your Kaggle credentials to download this dataset. Learn more: http://bit.ly/kaggle-creds\n",
            "Your Kaggle username: shobhittyagi\n",
            "Your Kaggle Key: ··········\n",
            "Downloading casia-dataset.zip to ./casia-dataset\n"
          ]
        },
        {
          "output_type": "stream",
          "name": "stderr",
          "text": [
            "100%|██████████| 5.22G/5.22G [01:39<00:00, 56.1MB/s]\n"
          ]
        },
        {
          "output_type": "stream",
          "name": "stdout",
          "text": [
            "\n"
          ]
        }
      ]
    },
    {
      "cell_type": "code",
      "metadata": {
        "id": "YlKqR2R9yJmr"
      },
      "source": [
        "import numpy as np \n",
        "import pandas as pd \n",
        "import matplotlib.pyplot as plt2\n",
        "import os\n",
        "import tensorflow as tf\n",
        "from keras.preprocessing.image import ImageDataGenerator, load_img\n",
        "from keras.layers import (Conv2D, BatchNormalization, Activation, MaxPooling2D, GlobalAveragePooling2D, Dense, Flatten, Dropout)\n",
        "from tensorflow.keras.optimizers import RMSprop, Adam, SGD\n",
        "from keras import regularizers\n",
        "from keras.callbacks import CSVLogger, ModelCheckpoint, ReduceLROnPlateau"
      ],
      "execution_count": 10,
      "outputs": []
    },
    {
      "cell_type": "code",
      "metadata": {
        "id": "CQs_cdXDyneL"
      },
      "source": [
        "from PIL import Image, ImageChops, ImageEnhance\n",
        "import os\n",
        "import itertools"
      ],
      "execution_count": 11,
      "outputs": []
    },
    {
      "cell_type": "code",
      "metadata": {
        "id": "PUo_HyrTyq-3"
      },
      "source": [
        "def convert_to_ela_image(path, quality):\n",
        "    temp_filename = 'temp_file_name.jpg'\n",
        "    ela_filename = 'temp_ela.png'\n",
        "    \n",
        "    image = Image.open(path).convert('RGB')\n",
        "    image.save(temp_filename, 'JPEG', quality = quality)\n",
        "    temp_image = Image.open(temp_filename)\n",
        "    \n",
        "    ela_image = ImageChops.difference(image, temp_image)\n",
        "    \n",
        "    extrema = ela_image.getextrema()\n",
        "    max_diff = max([ex[1] for ex in extrema])\n",
        "    if max_diff == 0:\n",
        "        max_diff = 1\n",
        "    scale = 255.0 / max_diff\n",
        "    \n",
        "    ela_image = ImageEnhance.Brightness(ela_image).enhance(scale)\n",
        "    \n",
        "    return ela_image"
      ],
      "execution_count": 12,
      "outputs": []
    },
    {
      "cell_type": "code",
      "metadata": {
        "id": "D1j-CNA2yq8Q"
      },
      "source": [
        "image_size = (128, 128)"
      ],
      "execution_count": 13,
      "outputs": []
    },
    {
      "cell_type": "code",
      "metadata": {
        "id": "4yE7i4t9yu0U"
      },
      "source": [
        "def prepare_image(image_path):\n",
        "    return np.array(convert_to_ela_image(image_path, 90).resize(image_size)).flatten() / 255.0"
      ],
      "execution_count": 14,
      "outputs": []
    },
    {
      "cell_type": "code",
      "metadata": {
        "id": "0fOUqEcayq5V"
      },
      "source": [
        "X = [] # ELA converted images\n",
        "Y = [] # 0 for fake, 1 for real"
      ],
      "execution_count": 15,
      "outputs": []
    },
    {
      "cell_type": "code",
      "metadata": {
        "colab": {
          "base_uri": "https://localhost:8080/"
        },
        "id": "SnVBw9W5yp1O",
        "outputId": "6b4b62c5-ba58-4e6e-b8f2-cdc71de69cdd"
      },
      "source": [
        "import random\n",
        "path = '/content/casia-dataset/CASIA2/Au/'\n",
        "for dirname, _, filenames in os.walk(path):\n",
        "    for filename in filenames:\n",
        "        if filename.endswith('jpg') or filename.endswith('png'):\n",
        "            full_path = os.path.join(dirname, filename)\n",
        "            X.append(prepare_image(full_path))\n",
        "            Y.append(1)\n",
        "            if len(Y) % 500 == 0:\n",
        "                print(f'Processing {len(Y)} images')\n",
        "\n",
        "random.shuffle(X)\n",
        "X = X[:2100]\n",
        "Y = Y[:2100]\n",
        "print(len(X), len(Y))"
      ],
      "execution_count": 16,
      "outputs": [
        {
          "output_type": "stream",
          "name": "stderr",
          "text": [
            "/usr/local/lib/python3.7/dist-packages/PIL/TiffImagePlugin.py:770: UserWarning: Possibly corrupt EXIF data.  Expecting to read 8 bytes but only got 2. Skipping tag 41487\n",
            "  \" Skipping tag %s\" % (size, len(data), tag)\n",
            "/usr/local/lib/python3.7/dist-packages/PIL/TiffImagePlugin.py:770: UserWarning: Possibly corrupt EXIF data.  Expecting to read 8 bytes but only got 0. Skipping tag 41988\n",
            "  \" Skipping tag %s\" % (size, len(data), tag)\n"
          ]
        },
        {
          "output_type": "stream",
          "name": "stdout",
          "text": [
            "Processing 500 images\n",
            "Processing 1000 images\n",
            "Processing 1500 images\n",
            "Processing 2000 images\n",
            "Processing 2500 images\n",
            "Processing 3000 images\n",
            "Processing 3500 images\n",
            "Processing 4000 images\n",
            "Processing 4500 images\n",
            "Processing 5000 images\n",
            "Processing 5500 images\n",
            "Processing 6000 images\n",
            "Processing 6500 images\n",
            "Processing 7000 images\n",
            "2100 2100\n"
          ]
        }
      ]
    },
    {
      "cell_type": "code",
      "metadata": {
        "colab": {
          "base_uri": "https://localhost:8080/"
        },
        "id": "KvD7kTmJy2Ak",
        "outputId": "5fce784a-b60d-47ea-f1da-68373dd2f72d"
      },
      "source": [
        "path = '/content/casia-dataset/CASIA2/Tp/'\n",
        "for dirname, _, filenames in os.walk(path):\n",
        "    for filename in filenames:\n",
        "        if filename.endswith('jpg') or filename.endswith('png'):\n",
        "            full_path = os.path.join(dirname, filename)\n",
        "            X.append(prepare_image(full_path))\n",
        "            Y.append(0)\n",
        "            if len(Y) % 500 == 0:\n",
        "                print(f'Processing {len(Y)} images')\n",
        "\n",
        "print(len(X), len(Y))"
      ],
      "execution_count": 17,
      "outputs": [
        {
          "output_type": "stream",
          "name": "stdout",
          "text": [
            "Processing 2500 images\n",
            "Processing 3000 images\n",
            "Processing 3500 images\n",
            "Processing 4000 images\n",
            "4164 4164\n"
          ]
        }
      ]
    },
    {
      "cell_type": "code",
      "metadata": {
        "id": "P9gKn2rNy1-J"
      },
      "source": [
        "X = np.array(X)\n",
        "Y = to_categorical(Y, 2)\n",
        "X = X.reshape(-1, 128, 128, 3)"
      ],
      "execution_count": 18,
      "outputs": []
    },
    {
      "cell_type": "code",
      "metadata": {
        "colab": {
          "base_uri": "https://localhost:8080/"
        },
        "id": "FVpD9frhy169",
        "outputId": "1788c3eb-8bd3-4f95-ad94-c2fb3d1c2267"
      },
      "source": [
        "X_train, X_val, Y_train, Y_val = train_test_split(X, Y, test_size = 0.2, random_state=5)\n",
        "X = X.reshape(-1,1,1,1)\n",
        "print(len(X_train), len(Y_train))\n",
        "print(len(X_val), len(Y_val))"
      ],
      "execution_count": 19,
      "outputs": [
        {
          "output_type": "stream",
          "name": "stdout",
          "text": [
            "3331 3331\n",
            "833 833\n"
          ]
        }
      ]
    },
    {
      "cell_type": "code",
      "metadata": {
        "colab": {
          "base_uri": "https://localhost:8080/"
        },
        "id": "eVpxB_-Mc1-M",
        "outputId": "2787bfe1-83b9-4e39-cbdf-f0fea3980e7a"
      },
      "source": [
        "import tensorflow as tf\n",
        "from tensorflow import keras\n",
        "from tensorflow.keras.preprocessing.image import ImageDataGenerator\n",
        "from tensorflow.keras.models import Sequential, load_model\n",
        "from tensorflow.keras.layers import Activation\n",
        "from tensorflow.keras.layers import Dropout\n",
        "from tensorflow.keras.layers import Flatten\n",
        "from tensorflow.keras.layers import Dense\n",
        "from tensorflow.keras.layers import Input\n",
        "from tensorflow.keras.layers import BatchNormalization\n",
        "from tensorflow.keras.layers import Conv2D\n",
        "from tensorflow.keras.models import Model\n",
        "from tensorflow.keras.applications import InceptionResNetV2\n",
        "from tensorflow.keras.callbacks import ModelCheckpoint\n",
        "from tensorflow.keras.callbacks import LambdaCallback\n",
        "from tensorflow.keras.callbacks import Callback\n",
        "from tensorflow.keras import metrics\n",
        "from tensorflow.keras.optimizers import Adam \n",
        "from tensorflow.keras import backend as K\n",
        "\n",
        "pretrain_model = InceptionResNetV2(include_top=False,  weights='imagenet', input_shape=(128, 128, 3))  \n",
        "\n",
        "def create_model(input_shape, n_out):\n",
        "    \n",
        "    pretrain_model = InceptionResNetV2(\n",
        "        include_top=False, \n",
        "        weights='imagenet', \n",
        "        input_shape=input_shape)       \n",
        "    \n",
        "    input_tensor = Input(shape=(128, 128, 3))\n",
        "    bn = BatchNormalization()(input_tensor)\n",
        "    x = pretrain_model(bn)\n",
        "    x = Conv2D(128, kernel_size=(1,1), activation='relu')(x)\n",
        "    x = Flatten()(x)\n",
        "    x = Dropout(0.5)(x)\n",
        "    x = Dense(512, activation='relu')(x)\n",
        "    x = Dropout(0.5)(x)\n",
        "    output = Dense(n_out, activation='sigmoid')(x)\n",
        "    model = Model(input_tensor, output)\n",
        "    return model\n",
        "\n",
        "    # input_tensor = Input(shape=input_shape)\n",
        "    # bn = BatchNormalization()(input_tensor)\n",
        "    # x = pretrain_model(bn)\n",
        "    # x = Conv2D(128, kernel_size=(1,1), activation='rel\n",
        "    # model = Model(input_tensor, output)"
      ],
      "execution_count": 22,
      "outputs": [
        {
          "output_type": "stream",
          "name": "stdout",
          "text": [
            "Downloading data from https://storage.googleapis.com/tensorflow/keras-applications/inception_resnet_v2/inception_resnet_v2_weights_tf_dim_ordering_tf_kernels_notop.h5\n",
            "219062272/219055592 [==============================] - 2s 0us/step\n",
            "219070464/219055592 [==============================] - 2s 0us/step\n"
          ]
        }
      ]
    },
    {
      "cell_type": "code",
      "metadata": {
        "colab": {
          "base_uri": "https://localhost:8080/"
        },
        "id": "p4KKSq8oc17P",
        "outputId": "24769a89-526e-4445-e3d4-20756ae5e927"
      },
      "source": [
        "keras.backend.clear_session()\n",
        "\n",
        "model = create_model((128, 128, 3), 2)\n",
        "\n",
        "\n",
        "model.summary()"
      ],
      "execution_count": 23,
      "outputs": [
        {
          "output_type": "stream",
          "name": "stdout",
          "text": [
            "Model: \"model\"\n",
            "_________________________________________________________________\n",
            "Layer (type)                 Output Shape              Param #   \n",
            "=================================================================\n",
            "input_2 (InputLayer)         [(None, 128, 128, 3)]     0         \n",
            "_________________________________________________________________\n",
            "batch_normalization_203 (Bat (None, 128, 128, 3)       12        \n",
            "_________________________________________________________________\n",
            "inception_resnet_v2 (Functio (None, 2, 2, 1536)        54336736  \n",
            "_________________________________________________________________\n",
            "conv2d_203 (Conv2D)          (None, 2, 2, 128)         196736    \n",
            "_________________________________________________________________\n",
            "flatten (Flatten)            (None, 512)               0         \n",
            "_________________________________________________________________\n",
            "dropout (Dropout)            (None, 512)               0         \n",
            "_________________________________________________________________\n",
            "dense (Dense)                (None, 512)               262656    \n",
            "_________________________________________________________________\n",
            "dropout_1 (Dropout)          (None, 512)               0         \n",
            "_________________________________________________________________\n",
            "dense_1 (Dense)              (None, 2)                 1026      \n",
            "=================================================================\n",
            "Total params: 54,797,166\n",
            "Trainable params: 54,736,616\n",
            "Non-trainable params: 60,550\n",
            "_________________________________________________________________\n"
          ]
        }
      ]
    },
    {
      "cell_type": "code",
      "metadata": {
        "id": "t4GzJ8nA0Yqx"
      },
      "source": [
        "epochs = 30\n",
        "batch_size = 32"
      ],
      "execution_count": 26,
      "outputs": []
    },
    {
      "cell_type": "code",
      "metadata": {
        "colab": {
          "base_uri": "https://localhost:8080/"
        },
        "id": "dqgQksRf0ajO",
        "outputId": "663a27b3-f700-4d83-f120-456425e9d7d0"
      },
      "source": [
        "init_lr = 1e-4\n",
        "optimizer = Adam(lr = init_lr, decay = init_lr/epochs)"
      ],
      "execution_count": 27,
      "outputs": [
        {
          "output_type": "stream",
          "name": "stderr",
          "text": [
            "/usr/local/lib/python3.7/dist-packages/keras/optimizer_v2/optimizer_v2.py:356: UserWarning: The `lr` argument is deprecated, use `learning_rate` instead.\n",
            "  \"The `lr` argument is deprecated, use `learning_rate` instead.\")\n"
          ]
        }
      ]
    },
    {
      "cell_type": "code",
      "metadata": {
        "id": "xb46YLAa0cCL"
      },
      "source": [
        "model.compile(optimizer = optimizer, loss = 'binary_crossentropy', metrics = ['accuracy'])"
      ],
      "execution_count": 28,
      "outputs": []
    },
    {
      "cell_type": "code",
      "metadata": {
        "id": "3JonG8LQ0Yn2"
      },
      "source": [
        "early_stopping = EarlyStopping(monitor = 'val_acc',\n",
        "                              min_delta = 0,\n",
        "                              patience = 2,\n",
        "                              verbose = 0,\n",
        "                              mode = 'auto')"
      ],
      "execution_count": 29,
      "outputs": []
    },
    {
      "cell_type": "code",
      "metadata": {
        "id": "Nr9R3l1pgYqz"
      },
      "source": [
        "checkpoint = ModelCheckpoint(filepath='/content/Model_weights/IRnet.h5',\n",
        "                             save_best_only=True,\n",
        "                             verbose=1,\n",
        "                             mode='min',\n",
        "                             moniter='val_loss'\n",
        "                            )\n",
        "reduce_lr = ReduceLROnPlateau(monitor='val_loss', \n",
        "                              factor=0.2, \n",
        "                              patience=3, \n",
        "                              verbose=1\n",
        "                             )\n",
        "csv_logger = CSVLogger('training.log')\n",
        "\n",
        "callbacks = [checkpoint, reduce_lr, early_stopping, csv_logger]"
      ],
      "execution_count": 31,
      "outputs": []
    },
    {
      "cell_type": "code",
      "metadata": {
        "colab": {
          "base_uri": "https://localhost:8080/"
        },
        "id": "ih_zNAsm0r7_",
        "outputId": "1d5bac92-8b2a-4415-822d-d11ad1fa381c"
      },
      "source": [
        "hist = model.fit(X_train,\n",
        "                 Y_train,\n",
        "                 batch_size = batch_size,\n",
        "                 epochs = epochs,\n",
        "                 validation_data = (X_val, Y_val),\n",
        "                 callbacks = callbacks)"
      ],
      "execution_count": 32,
      "outputs": [
        {
          "output_type": "stream",
          "name": "stdout",
          "text": [
            "Epoch 1/30\n",
            "105/105 [==============================] - 119s 635ms/step - loss: 0.5358 - accuracy: 0.7460 - val_loss: 2.1929 - val_accuracy: 0.5390\n",
            "\n",
            "Epoch 00001: val_loss improved from inf to 2.19290, saving model to /content/Model_weights/IRnet.h5\n",
            "WARNING:tensorflow:Early stopping conditioned on metric `val_acc` which is not available. Available metrics are: loss,accuracy,val_loss,val_accuracy,lr\n",
            "Epoch 2/30\n",
            "105/105 [==============================] - 60s 569ms/step - loss: 0.2940 - accuracy: 0.8910 - val_loss: 268.1002 - val_accuracy: 0.6134\n",
            "\n",
            "Epoch 00002: val_loss did not improve from 2.19290\n",
            "WARNING:tensorflow:Early stopping conditioned on metric `val_acc` which is not available. Available metrics are: loss,accuracy,val_loss,val_accuracy,lr\n",
            "Epoch 3/30\n",
            "105/105 [==============================] - 60s 570ms/step - loss: 0.1817 - accuracy: 0.9301 - val_loss: 0.5588 - val_accuracy: 0.7515\n",
            "\n",
            "Epoch 00003: val_loss improved from 2.19290 to 0.55882, saving model to /content/Model_weights/IRnet.h5\n",
            "WARNING:tensorflow:Early stopping conditioned on metric `val_acc` which is not available. Available metrics are: loss,accuracy,val_loss,val_accuracy,lr\n",
            "Epoch 4/30\n",
            "105/105 [==============================] - 60s 570ms/step - loss: 0.0715 - accuracy: 0.9745 - val_loss: 2.6047 - val_accuracy: 0.8295\n",
            "\n",
            "Epoch 00004: val_loss did not improve from 0.55882\n",
            "WARNING:tensorflow:Early stopping conditioned on metric `val_acc` which is not available. Available metrics are: loss,accuracy,val_loss,val_accuracy,lr\n",
            "Epoch 5/30\n",
            "105/105 [==============================] - 61s 578ms/step - loss: 0.0820 - accuracy: 0.9727 - val_loss: 0.4144 - val_accuracy: 0.8968\n",
            "\n",
            "Epoch 00005: val_loss improved from 0.55882 to 0.41441, saving model to /content/Model_weights/IRnet.h5\n",
            "WARNING:tensorflow:Early stopping conditioned on metric `val_acc` which is not available. Available metrics are: loss,accuracy,val_loss,val_accuracy,lr\n",
            "Epoch 6/30\n",
            "105/105 [==============================] - 60s 569ms/step - loss: 0.0411 - accuracy: 0.9877 - val_loss: 0.9419 - val_accuracy: 0.8992\n",
            "\n",
            "Epoch 00006: val_loss did not improve from 0.41441\n",
            "WARNING:tensorflow:Early stopping conditioned on metric `val_acc` which is not available. Available metrics are: loss,accuracy,val_loss,val_accuracy,lr\n",
            "Epoch 7/30\n",
            "105/105 [==============================] - 60s 569ms/step - loss: 0.0726 - accuracy: 0.9787 - val_loss: 0.3806 - val_accuracy: 0.9256\n",
            "\n",
            "Epoch 00007: val_loss improved from 0.41441 to 0.38058, saving model to /content/Model_weights/IRnet.h5\n",
            "WARNING:tensorflow:Early stopping conditioned on metric `val_acc` which is not available. Available metrics are: loss,accuracy,val_loss,val_accuracy,lr\n",
            "Epoch 8/30\n",
            "105/105 [==============================] - 61s 579ms/step - loss: 0.0592 - accuracy: 0.9817 - val_loss: 0.2463 - val_accuracy: 0.9280\n",
            "\n",
            "Epoch 00008: val_loss improved from 0.38058 to 0.24627, saving model to /content/Model_weights/IRnet.h5\n",
            "WARNING:tensorflow:Early stopping conditioned on metric `val_acc` which is not available. Available metrics are: loss,accuracy,val_loss,val_accuracy,lr\n",
            "Epoch 9/30\n",
            "105/105 [==============================] - 61s 579ms/step - loss: 0.0481 - accuracy: 0.9856 - val_loss: 0.2583 - val_accuracy: 0.9052\n",
            "\n",
            "Epoch 00009: val_loss did not improve from 0.24627\n",
            "WARNING:tensorflow:Early stopping conditioned on metric `val_acc` which is not available. Available metrics are: loss,accuracy,val_loss,val_accuracy,lr\n",
            "Epoch 10/30\n",
            "105/105 [==============================] - 60s 570ms/step - loss: 0.0475 - accuracy: 0.9859 - val_loss: 0.3567 - val_accuracy: 0.9232\n",
            "\n",
            "Epoch 00010: val_loss did not improve from 0.24627\n",
            "WARNING:tensorflow:Early stopping conditioned on metric `val_acc` which is not available. Available metrics are: loss,accuracy,val_loss,val_accuracy,lr\n",
            "Epoch 11/30\n",
            "105/105 [==============================] - 61s 580ms/step - loss: 0.0326 - accuracy: 0.9898 - val_loss: 0.2908 - val_accuracy: 0.9304\n",
            "\n",
            "Epoch 00011: val_loss did not improve from 0.24627\n",
            "\n",
            "Epoch 00011: ReduceLROnPlateau reducing learning rate to 1.9999999494757503e-05.\n",
            "WARNING:tensorflow:Early stopping conditioned on metric `val_acc` which is not available. Available metrics are: loss,accuracy,val_loss,val_accuracy,lr\n",
            "Epoch 12/30\n",
            "105/105 [==============================] - 60s 570ms/step - loss: 0.0174 - accuracy: 0.9937 - val_loss: 0.2954 - val_accuracy: 0.9340\n",
            "\n",
            "Epoch 00012: val_loss did not improve from 0.24627\n",
            "WARNING:tensorflow:Early stopping conditioned on metric `val_acc` which is not available. Available metrics are: loss,accuracy,val_loss,val_accuracy,lr\n",
            "Epoch 13/30\n",
            "105/105 [==============================] - 61s 580ms/step - loss: 0.0104 - accuracy: 0.9976 - val_loss: 0.3119 - val_accuracy: 0.9376\n",
            "\n",
            "Epoch 00013: val_loss did not improve from 0.24627\n",
            "WARNING:tensorflow:Early stopping conditioned on metric `val_acc` which is not available. Available metrics are: loss,accuracy,val_loss,val_accuracy,lr\n",
            "Epoch 14/30\n",
            "105/105 [==============================] - 61s 580ms/step - loss: 0.0119 - accuracy: 0.9970 - val_loss: 0.3527 - val_accuracy: 0.9340\n",
            "\n",
            "Epoch 00014: val_loss did not improve from 0.24627\n",
            "\n",
            "Epoch 00014: ReduceLROnPlateau reducing learning rate to 3.999999898951501e-06.\n",
            "WARNING:tensorflow:Early stopping conditioned on metric `val_acc` which is not available. Available metrics are: loss,accuracy,val_loss,val_accuracy,lr\n",
            "Epoch 15/30\n",
            "105/105 [==============================] - 61s 579ms/step - loss: 0.0125 - accuracy: 0.9964 - val_loss: 0.3226 - val_accuracy: 0.9364\n",
            "\n",
            "Epoch 00015: val_loss did not improve from 0.24627\n",
            "WARNING:tensorflow:Early stopping conditioned on metric `val_acc` which is not available. Available metrics are: loss,accuracy,val_loss,val_accuracy,lr\n",
            "Epoch 16/30\n",
            "105/105 [==============================] - 61s 580ms/step - loss: 0.0111 - accuracy: 0.9964 - val_loss: 0.3246 - val_accuracy: 0.9352\n",
            "\n",
            "Epoch 00016: val_loss did not improve from 0.24627\n",
            "WARNING:tensorflow:Early stopping conditioned on metric `val_acc` which is not available. Available metrics are: loss,accuracy,val_loss,val_accuracy,lr\n",
            "Epoch 17/30\n",
            "105/105 [==============================] - 60s 571ms/step - loss: 0.0085 - accuracy: 0.9976 - val_loss: 0.3255 - val_accuracy: 0.9364\n",
            "\n",
            "Epoch 00017: val_loss did not improve from 0.24627\n",
            "\n",
            "Epoch 00017: ReduceLROnPlateau reducing learning rate to 7.999999979801942e-07.\n",
            "WARNING:tensorflow:Early stopping conditioned on metric `val_acc` which is not available. Available metrics are: loss,accuracy,val_loss,val_accuracy,lr\n",
            "Epoch 18/30\n",
            "105/105 [==============================] - 61s 581ms/step - loss: 0.0081 - accuracy: 0.9976 - val_loss: 0.3291 - val_accuracy: 0.9364\n",
            "\n",
            "Epoch 00018: val_loss did not improve from 0.24627\n",
            "WARNING:tensorflow:Early stopping conditioned on metric `val_acc` which is not available. Available metrics are: loss,accuracy,val_loss,val_accuracy,lr\n",
            "Epoch 19/30\n",
            "105/105 [==============================] - 60s 569ms/step - loss: 0.0088 - accuracy: 0.9973 - val_loss: 0.3261 - val_accuracy: 0.9364\n",
            "\n",
            "Epoch 00019: val_loss did not improve from 0.24627\n",
            "WARNING:tensorflow:Early stopping conditioned on metric `val_acc` which is not available. Available metrics are: loss,accuracy,val_loss,val_accuracy,lr\n",
            "Epoch 20/30\n",
            "105/105 [==============================] - 60s 570ms/step - loss: 0.0090 - accuracy: 0.9967 - val_loss: 0.3221 - val_accuracy: 0.9352\n",
            "\n",
            "Epoch 00020: val_loss did not improve from 0.24627\n",
            "\n",
            "Epoch 00020: ReduceLROnPlateau reducing learning rate to 1.600000018697756e-07.\n",
            "WARNING:tensorflow:Early stopping conditioned on metric `val_acc` which is not available. Available metrics are: loss,accuracy,val_loss,val_accuracy,lr\n",
            "Epoch 21/30\n",
            "105/105 [==============================] - 61s 580ms/step - loss: 0.0082 - accuracy: 0.9985 - val_loss: 0.3246 - val_accuracy: 0.9364\n",
            "\n",
            "Epoch 00021: val_loss did not improve from 0.24627\n",
            "WARNING:tensorflow:Early stopping conditioned on metric `val_acc` which is not available. Available metrics are: loss,accuracy,val_loss,val_accuracy,lr\n",
            "Epoch 22/30\n",
            "105/105 [==============================] - 60s 570ms/step - loss: 0.0075 - accuracy: 0.9973 - val_loss: 0.3259 - val_accuracy: 0.9364\n",
            "\n",
            "Epoch 00022: val_loss did not improve from 0.24627\n",
            "WARNING:tensorflow:Early stopping conditioned on metric `val_acc` which is not available. Available metrics are: loss,accuracy,val_loss,val_accuracy,lr\n",
            "Epoch 23/30\n",
            "105/105 [==============================] - 61s 580ms/step - loss: 0.0061 - accuracy: 0.9991 - val_loss: 0.3270 - val_accuracy: 0.9364\n",
            "\n",
            "Epoch 00023: val_loss did not improve from 0.24627\n",
            "\n",
            "Epoch 00023: ReduceLROnPlateau reducing learning rate to 3.199999980552093e-08.\n",
            "WARNING:tensorflow:Early stopping conditioned on metric `val_acc` which is not available. Available metrics are: loss,accuracy,val_loss,val_accuracy,lr\n",
            "Epoch 24/30\n",
            "105/105 [==============================] - 60s 571ms/step - loss: 0.0091 - accuracy: 0.9970 - val_loss: 0.3251 - val_accuracy: 0.9376\n",
            "\n",
            "Epoch 00024: val_loss did not improve from 0.24627\n",
            "WARNING:tensorflow:Early stopping conditioned on metric `val_acc` which is not available. Available metrics are: loss,accuracy,val_loss,val_accuracy,lr\n",
            "Epoch 25/30\n",
            "105/105 [==============================] - 61s 582ms/step - loss: 0.0066 - accuracy: 0.9979 - val_loss: 0.3260 - val_accuracy: 0.9388\n",
            "\n",
            "Epoch 00025: val_loss did not improve from 0.24627\n",
            "WARNING:tensorflow:Early stopping conditioned on metric `val_acc` which is not available. Available metrics are: loss,accuracy,val_loss,val_accuracy,lr\n",
            "Epoch 26/30\n",
            "105/105 [==============================] - 61s 583ms/step - loss: 0.0115 - accuracy: 0.9964 - val_loss: 0.3206 - val_accuracy: 0.9376\n",
            "\n",
            "Epoch 00026: val_loss did not improve from 0.24627\n",
            "\n",
            "Epoch 00026: ReduceLROnPlateau reducing learning rate to 6.399999818995639e-09.\n",
            "WARNING:tensorflow:Early stopping conditioned on metric `val_acc` which is not available. Available metrics are: loss,accuracy,val_loss,val_accuracy,lr\n",
            "Epoch 27/30\n",
            "105/105 [==============================] - 60s 573ms/step - loss: 0.0064 - accuracy: 0.9991 - val_loss: 0.3267 - val_accuracy: 0.9352\n",
            "\n",
            "Epoch 00027: val_loss did not improve from 0.24627\n",
            "WARNING:tensorflow:Early stopping conditioned on metric `val_acc` which is not available. Available metrics are: loss,accuracy,val_loss,val_accuracy,lr\n",
            "Epoch 28/30\n",
            "105/105 [==============================] - 60s 575ms/step - loss: 0.0075 - accuracy: 0.9982 - val_loss: 0.3305 - val_accuracy: 0.9352\n",
            "\n",
            "Epoch 00028: val_loss did not improve from 0.24627\n",
            "WARNING:tensorflow:Early stopping conditioned on metric `val_acc` which is not available. Available metrics are: loss,accuracy,val_loss,val_accuracy,lr\n",
            "Epoch 29/30\n",
            "105/105 [==============================] - 60s 573ms/step - loss: 0.0062 - accuracy: 0.9982 - val_loss: 0.3250 - val_accuracy: 0.9352\n",
            "\n",
            "Epoch 00029: val_loss did not improve from 0.24627\n",
            "\n",
            "Epoch 00029: ReduceLROnPlateau reducing learning rate to 1.279999928271991e-09.\n",
            "WARNING:tensorflow:Early stopping conditioned on metric `val_acc` which is not available. Available metrics are: loss,accuracy,val_loss,val_accuracy,lr\n",
            "Epoch 30/30\n",
            "105/105 [==============================] - 60s 574ms/step - loss: 0.0096 - accuracy: 0.9976 - val_loss: 0.3253 - val_accuracy: 0.9352\n",
            "\n",
            "Epoch 00030: val_loss did not improve from 0.24627\n",
            "WARNING:tensorflow:Early stopping conditioned on metric `val_acc` which is not available. Available metrics are: loss,accuracy,val_loss,val_accuracy,lr\n"
          ]
        }
      ]
    },
    {
      "cell_type": "code",
      "metadata": {
        "id": "kt02ZOzg0r3X"
      },
      "source": [
        "model.save('model_casia_run1.h5')"
      ],
      "execution_count": null,
      "outputs": []
    },
    {
      "cell_type": "code",
      "metadata": {
        "colab": {
          "base_uri": "https://localhost:8080/",
          "height": 573
        },
        "id": "FFcn4ZHh73bC",
        "outputId": "7978a736-026e-49e3-9160-1dca11cd2c7e"
      },
      "source": [
        "plt.plot(hist.history['accuracy'])\n",
        "plt.plot(hist.history['val_accuracy'])\n",
        "plt.title('Model Accuracy')\n",
        "plt.ylabel('Accuracy')\n",
        "plt.xlabel('Epoch')\n",
        "plt.legend(['Train', 'Val'], loc='upper right')\n",
        "plt.show()\n",
        "\n",
        "\n",
        "plt.plot(hist.history['loss'])\n",
        "plt.plot(hist.history['val_loss'])\n",
        "plt.title('Model Loss')\n",
        "plt.ylabel('Loss')\n",
        "plt.xlabel('Epoch')\n",
        "plt.legend(['Train', 'Val'], loc='upper right')\n",
        "plt.show()"
      ],
      "execution_count": 33,
      "outputs": [
        {
          "output_type": "display_data",
          "data": {
            "image/png": "[encoded data removed]",
            "text/plain": [
              "<Figure size 432x288 with 1 Axes>"
            ]
          },
          "metadata": {
            "needs_background": "light"
          }
        },
        {
          "output_type": "display_data",
          "data": {
            "image/png": "[encoded data removed]",
            "text/plain": [
              "<Figure size 432x288 with 1 Axes>"
            ]
          },
          "metadata": {
            "needs_background": "light"
          }
        }
      ]
    },
    {
      "cell_type": "code",
      "metadata": {
        "id": "_XPpZ7fq8mGm"
      },
      "source": [
        "def plot_confusion_matrix(cm, classes,\n",
        "                          normalize=False,\n",
        "                          title='Confusion matrix',\n",
        "                          cmap=plt.cm.Blues):\n",
        "    \"\"\"\n",
        "    This function prints and plots the confusion matrix.\n",
        "    Normalization can be applied by setting `normalize=True`.\n",
        "    \"\"\"\n",
        "    plt.imshow(cm, interpolation='nearest', cmap=cmap)\n",
        "    plt.title(title)\n",
        "    plt.colorbar()\n",
        "    tick_marks = np.arange(len(classes))\n",
        "    plt.xticks(tick_marks, classes, rotation=45)\n",
        "    plt.yticks(tick_marks, classes)\n",
        "\n",
        "    if normalize:\n",
        "        cm = cm.astype('float') / cm.sum(axis=1)[:, np.newaxis]\n",
        "\n",
        "    thresh = cm.max() / 2.\n",
        "    for i, j in itertools.product(range(cm.shape[0]), range(cm.shape[1])):\n",
        "        plt.text(j, i, cm[i, j],\n",
        "                 horizontalalignment=\"center\",\n",
        "                 color=\"white\" if cm[i, j] > thresh else \"black\")\n",
        "\n",
        "    plt.tight_layout()\n",
        "    plt.ylabel('True label')\n",
        "    plt.xlabel('Predicted label')\n",
        "    "
      ],
      "execution_count": 36,
      "outputs": []
    },
    {
      "cell_type": "code",
      "metadata": {
        "colab": {
          "base_uri": "https://localhost:8080/",
          "height": 311
        },
        "id": "eKQSyiVf73S9",
        "outputId": "7ff97238-562b-4fdb-e27c-fba1fd5bb221"
      },
      "source": [
        "# Predict the values from the validation dataset\n",
        "Y_pred = model.predict(X_val)\n",
        "# Convert predictions classes to one hot vectors \n",
        "Y_pred_classes = np.argmax(Y_pred,axis = 1) \n",
        "# Convert validation observations to one hot vectors\n",
        "Y_true = np.argmax(Y_val,axis = 1) \n",
        "# compute the confusion matrix\n",
        "confusion_mtx = confusion_matrix(Y_true, Y_pred_classes) \n",
        "# plot the confusion matrix\n",
        "plot_confusion_matrix(confusion_mtx, classes = range(2))"
      ],
      "execution_count": 37,
      "outputs": [
        {
          "output_type": "display_data",
          "data": {
            "image/png": "[encoded data removed]",
            "text/plain": [
              "<Figure size 432x288 with 2 Axes>"
            ]
          },
          "metadata": {
            "needs_background": "light"
          }
        }
      ]
    },
    {
      "cell_type": "code",
      "metadata": {
        "id": "MQntJkRRTAIy"
      },
      "source": [
        "import os, datetime\n",
        "\n",
        "import tensorflow as tf\n",
        "from tensorflow.keras.preprocessing.image import ImageDataGenerator\n",
        "from tensorflow.keras.utils import plot_model\n",
        "\n",
        "from PIL import Image\n",
        "import matplotlib.pyplot as plt\n",
        "\n",
        "import pydotplus\n",
        "import pydot"
      ],
      "execution_count": 43,
      "outputs": []
    },
    {
      "cell_type": "code",
      "metadata": {
        "id": "cM96qGIATAGR"
      },
      "source": [
        "tf.keras.utils.pydot = pydot"
      ],
      "execution_count": 44,
      "outputs": []
    },
    {
      "cell_type": "code",
      "metadata": {
        "id": "U3IXC-R5TAEK",
        "colab": {
          "base_uri": "https://localhost:8080/",
          "height": 975
        },
        "outputId": "707a008e-f64f-4cb0-ea3c-57d7904aa215"
      },
      "source": [
        "plot_model(model, to_file='model.png', show_shapes=True)"
      ],
      "execution_count": 45,
      "outputs": [
        {
          "output_type": "execute_result",
          "data": {
            "image/png": "[encoded data removed]",
            "text/plain": [
              "<IPython.core.display.Image object>"
            ]
          },
          "metadata": {},
          "execution_count": 45
        }
      ]
    },
    {
      "cell_type": "code",
      "metadata": {
        "id": "OLc3cShDUWU8"
      },
      "source": [
        ""
      ],
      "execution_count": null,
      "outputs": []
    },
    {
      "cell_type": "code",
      "metadata": {
        "id": "HJ7JnSDBUWR1"
      },
      "source": [
        ""
      ],
      "execution_count": null,
      "outputs": []
    }
  ]
}